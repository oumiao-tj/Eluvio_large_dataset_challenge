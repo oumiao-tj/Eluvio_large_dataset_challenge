{
 "cells": [
  {
   "cell_type": "code",
   "execution_count": 1,
   "metadata": {},
   "outputs": [
    {
     "name": "stderr",
     "output_type": "stream",
     "text": [
      "Using TensorFlow backend.\n"
     ]
    }
   ],
   "source": [
    "import pandas as pd\n",
    "import numpy as np\n",
    "import random\n",
    "import keras\n",
    "from tqdm import tqdm\n",
    "from keras.initializers import Constant\n",
    "from keras.optimizers import Adam, SGD\n",
    "from keras import backend as K\n",
    "from keras_tqdm import TQDMNotebookCallback\n",
    "from keras.utils import plot_model\n",
    "from keras.models import Model\n",
    "from keras.layers import Input, Dense, Embedding, BatchNormalization\n",
    "from keras.layers.recurrent import LSTM\n",
    "from keras.layers.merge import concatenate\n",
    "from keras.callbacks import EarlyStopping"
   ]
  },
  {
   "cell_type": "code",
   "execution_count": 2,
   "metadata": {},
   "outputs": [],
   "source": [
    "# load word embedding_matrix and logvotes_labels\n",
    "embedding_matrix = np.load(\"D:\\eluvio\\data_\\modified_embedding_matrix.npy\")\n",
    "category_labels = np.load(\"D:\\eluvio\\data_\\category_labels.npy\")"
   ]
  },
  {
   "cell_type": "code",
   "execution_count": 3,
   "metadata": {},
   "outputs": [],
   "source": [
    "# some general info from EDA\n",
    "n_row = 509236\n",
    "chunksize = 10000\n",
    "chunk_count = 51\n",
    "num_words = 81404\n",
    "max_len = 50"
   ]
  },
  {
   "cell_type": "code",
   "execution_count": 4,
   "metadata": {},
   "outputs": [],
   "source": [
    "# split training, validation, testing sets\n",
    "random.seed(0)\n",
    "temp_list = list(range(n_row))\n",
    "random.shuffle(temp_list)\n",
    "\n",
    "train_list, val_list, test_list = temp_list[:400000], temp_list[400000:500000], temp_list[500000:]"
   ]
  },
  {
   "cell_type": "code",
   "execution_count": 5,
   "metadata": {},
   "outputs": [],
   "source": [
    "class DataGenerator(keras.utils.Sequence): # Generates data for fit_generator\n",
    "    def __init__(self, ID_list, labels, batch_size=32, dim = max_len, shuffle=True):\n",
    "        self.dim = dim\n",
    "        self.batch_size = batch_size\n",
    "        self.labels = labels\n",
    "        self.ID_list = ID_list\n",
    "        self.shuffle = shuffle\n",
    "        self.on_epoch_end()\n",
    "\n",
    "    def __len__(self): # Denotes the number of batches per epoch\n",
    "        return int(np.floor(len(self.ID_list) / self.batch_size))\n",
    "    \n",
    "    def on_epoch_end(self): # Updates indexes after each epoch\n",
    "        self.indexes = np.arange(len(self.ID_list))\n",
    "        if self.shuffle == True:\n",
    "            np.random.shuffle(self.indexes)\n",
    "\n",
    "\n",
    "    def __getitem__(self, index): #Generate one batch of data\n",
    "        # Generate indexes of the batch\n",
    "        indexes = self.indexes[index*self.batch_size:(index+1)*self.batch_size]\n",
    "        \n",
    "        temp_ID_list = [self.ID_list[k] for k in indexes]\n",
    "\n",
    "        # Generate data\n",
    "        X_text, X_feature, y = self.__data_generation(temp_ID_list)\n",
    "\n",
    "        return [X_text, X_feature], y\n",
    "\n",
    "    def __data_generation(self, temp_ID_list):\n",
    "        # Initialization\n",
    "        X_text = np.empty((self.batch_size, self.dim))\n",
    "        X_feature = np.empty((self.batch_size, 8))\n",
    "        y = np.empty((self.batch_size), dtype=int)\n",
    "\n",
    "        # Generate data\n",
    "        for i, ID in enumerate(temp_ID_list):\n",
    "            X_text[i,] = np.load(\"D:\\eluvio\\data_\\_pad_seq\" + str(ID) + \".npy\")\n",
    "            X_feature[i,] = np.load(\"D:\\eluvio\\data_\\_feature\" + str(ID) + \".npy\")\n",
    "            y[i] = self.labels[ID]\n",
    "\n",
    "        return X_text, X_feature, y"
   ]
  },
  {
   "cell_type": "code",
   "execution_count": 6,
   "metadata": {},
   "outputs": [
    {
     "data": {
      "text/plain": [
       "((32, 50), (8,), (32,))"
      ]
     },
     "execution_count": 6,
     "metadata": {},
     "output_type": "execute_result"
    }
   ],
   "source": [
    "# sample\n",
    "data_generator = DataGenerator(range(n_row), category_labels)\n",
    "data_generator.__getitem__(0)[0][0].shape, data_generator.__getitem__(0)[0][1][0].shape, data_generator.__getitem__(0)[1].shape"
   ]
  },
  {
   "cell_type": "code",
   "execution_count": 7,
   "metadata": {},
   "outputs": [],
   "source": [
    "def recall_m(y_true, y_pred):\n",
    "    true_positives = K.sum(K.round(K.clip(y_true * y_pred, 0, 1)))\n",
    "    possible_positives = K.sum(K.round(K.clip(y_true, 0, 1)))\n",
    "    recall = true_positives / (possible_positives + K.epsilon())\n",
    "    return recall\n",
    "\n",
    "def precision_m(y_true, y_pred):\n",
    "    true_positives = K.sum(K.round(K.clip(y_true * y_pred, 0, 1)))\n",
    "    predicted_positives = K.sum(K.round(K.clip(y_pred, 0, 1)))\n",
    "    precision = true_positives / (predicted_positives + K.epsilon())\n",
    "    return precision\n",
    "\n",
    "def f1_m(y_true, y_pred):\n",
    "    precision = precision_m(y_true, y_pred)\n",
    "    recall = recall_m(y_true, y_pred)\n",
    "    return 2*((precision*recall)/(precision+recall+K.epsilon()))"
   ]
  },
  {
   "cell_type": "code",
   "execution_count": 8,
   "metadata": {},
   "outputs": [],
   "source": [
    "# build model\n",
    "visible1 = Input(shape = (max_len,))\n",
    "embedding = Embedding(num_words, 50, embeddings_initializer = Constant(embedding_matrix),\n",
    "                    input_length = max_len, trainable = False)(visible1)\n",
    "lstm = LSTM(128, dropout=0.2, recurrent_dropout=0.2)(embedding)\n",
    "dense1 = Dense(32, activation = 'relu')(lstm)\n",
    "\n",
    "visible2 = Input(shape = (8,))\n",
    "dense2 = Dense(4, activation = 'relu')(visible2)\n",
    "merge = concatenate([dense1, dense2])\n",
    "output = Dense(1, activation='sigmoid')(merge)\n",
    "model = Model(inputs=[visible1, visible2], outputs=output)"
   ]
  },
  {
   "cell_type": "code",
   "execution_count": 9,
   "metadata": {},
   "outputs": [
    {
     "name": "stdout",
     "output_type": "stream",
     "text": [
      "Model: \"model_1\"\n",
      "__________________________________________________________________________________________________\n",
      "Layer (type)                    Output Shape         Param #     Connected to                     \n",
      "==================================================================================================\n",
      "input_1 (InputLayer)            (None, 50)           0                                            \n",
      "__________________________________________________________________________________________________\n",
      "embedding_1 (Embedding)         (None, 50, 50)       4070200     input_1[0][0]                    \n",
      "__________________________________________________________________________________________________\n",
      "lstm_1 (LSTM)                   (None, 128)          91648       embedding_1[0][0]                \n",
      "__________________________________________________________________________________________________\n",
      "input_2 (InputLayer)            (None, 8)            0                                            \n",
      "__________________________________________________________________________________________________\n",
      "dense_1 (Dense)                 (None, 32)           4128        lstm_1[0][0]                     \n",
      "__________________________________________________________________________________________________\n",
      "dense_2 (Dense)                 (None, 4)            36          input_2[0][0]                    \n",
      "__________________________________________________________________________________________________\n",
      "concatenate_1 (Concatenate)     (None, 36)           0           dense_1[0][0]                    \n",
      "                                                                 dense_2[0][0]                    \n",
      "__________________________________________________________________________________________________\n",
      "dense_3 (Dense)                 (None, 1)            37          concatenate_1[0][0]              \n",
      "==================================================================================================\n",
      "Total params: 4,166,049\n",
      "Trainable params: 95,849\n",
      "Non-trainable params: 4,070,200\n",
      "__________________________________________________________________________________________________\n",
      "None\n"
     ]
    },
    {
     "data": {
      "image/png": "[encoded data removed]",
      "text/plain": [
       "<IPython.core.display.Image object>"
      ]
     },
     "execution_count": 9,
     "metadata": {},
     "output_type": "execute_result"
    }
   ],
   "source": [
    "# summarize layers\n",
    "print(model.summary())\n",
    "# plot graph\n",
    "plot_model(model, to_file='shared_feature_extractor.png')"
   ]
  },
  {
   "cell_type": "code",
   "execution_count": 10,
   "metadata": {},
   "outputs": [],
   "source": [
    "optimzer=Adam(learning_rate=5e-3)\n",
    "model.compile(loss='binary_crossentropy',optimizer=optimzer,metrics=['accuracy', f1_m, recall_m, precision_m])"
   ]
  },
  {
   "cell_type": "code",
   "execution_count": 11,
   "metadata": {
    "scrolled": false
   },
   "outputs": [
    {
     "data": {
      "application/vnd.jupyter.widget-view+json": {
       "model_id": "e3d989b1b7064897ad4a00c6e78c937b",
       "version_major": 2,
       "version_minor": 0
      },
      "text/plain": [
       "HBox(children=(IntProgress(value=0, description='Training', max=5, style=ProgressStyle(description_width='init…"
      ]
     },
     "metadata": {},
     "output_type": "display_data"
    },
    {
     "name": "stdout",
     "output_type": "stream",
     "text": [
      "Epoch 1/5\n"
     ]
    },
    {
     "data": {
      "application/vnd.jupyter.widget-view+json": {
       "model_id": "",
       "version_major": 2,
       "version_minor": 0
      },
      "text/plain": [
       "HBox(children=(IntProgress(value=0, description='Epoch 0', max=12500, style=ProgressStyle(description_width='i…"
      ]
     },
     "metadata": {},
     "output_type": "display_data"
    },
    {
     "name": "stdout",
     "output_type": "stream",
     "text": [
      " - 7971s - loss: 0.5372 - accuracy: 0.6941 - f1_m: 0.6451 - recall_m: 0.6337 - precision_m: 0.6814 - val_loss: 0.6429 - val_accuracy: 0.6043 - val_f1_m: 0.4655 - val_recall_m: 0.3934 - val_precision_m: 0.6019\n",
      "\n",
      "Epoch 00001: val_loss improved from inf to 0.64292, saving model to LSTM_GloVe_feature_classification_model.w8\n",
      "Epoch 2/5\n"
     ]
    },
    {
     "data": {
      "application/vnd.jupyter.widget-view+json": {
       "model_id": "",
       "version_major": 2,
       "version_minor": 0
      },
      "text/plain": [
       "HBox(children=(IntProgress(value=0, description='Epoch 1', max=12500, style=ProgressStyle(description_width='i…"
      ]
     },
     "metadata": {},
     "output_type": "display_data"
    },
    {
     "name": "stdout",
     "output_type": "stream",
     "text": [
      " - 8058s - loss: 0.5291 - accuracy: 0.6957 - f1_m: 0.6482 - recall_m: 0.6366 - precision_m: 0.6816 - val_loss: 0.7541 - val_accuracy: 0.6060 - val_f1_m: 0.4847 - val_recall_m: 0.4226 - val_precision_m: 0.5969\n",
      "\n",
      "Epoch 00002: val_loss did not improve from 0.64292\n",
      "Epoch 3/5\n"
     ]
    },
    {
     "data": {
      "application/vnd.jupyter.widget-view+json": {
       "model_id": "",
       "version_major": 2,
       "version_minor": 0
      },
      "text/plain": [
       "HBox(children=(IntProgress(value=0, description='Epoch 2', max=12500, style=ProgressStyle(description_width='i…"
      ]
     },
     "metadata": {},
     "output_type": "display_data"
    },
    {
     "name": "stdout",
     "output_type": "stream",
     "text": [
      " - 8041s - loss: 0.5245 - accuracy: 0.6966 - f1_m: 0.6439 - recall_m: 0.6237 - precision_m: 0.6891 - val_loss: 0.7360 - val_accuracy: 0.6058 - val_f1_m: 0.5052 - val_recall_m: 0.4581 - val_precision_m: 0.5882\n",
      "\n",
      "Epoch 00003: val_loss did not improve from 0.64292\n",
      "\n"
     ]
    }
   ],
   "source": [
    "train_generator = DataGenerator(train_list, category_labels)\n",
    "val_generator = DataGenerator(val_list, category_labels, shuffle = False)\n",
    "\n",
    "save_best = keras.callbacks.ModelCheckpoint('LSTM_GloVe_feature_classification_model.w8', save_weights_only=True,\n",
    "                                             save_best_only=True, verbose=1)\n",
    "early_stop = keras.callbacks.EarlyStopping(patience=2)\n",
    "history = model.fit_generator(generator=train_generator, validation_data=val_generator, verbose = 2, epochs = 5,\n",
    "                    callbacks=[TQDMNotebookCallback(), save_best, early_stop], workers=1, use_multiprocessing=False) # callbacks=[TQDMNotebookCallback(), save_best, early_stop]\n",
    "model.load_weights('LSTM_GloVe_feature_classification_model.w8')"
   ]
  },
  {
   "cell_type": "code",
   "execution_count": 12,
   "metadata": {},
   "outputs": [],
   "source": [
    "# -------------------- evaluation on test set -----------------------------"
   ]
  },
  {
   "cell_type": "code",
   "execution_count": 13,
   "metadata": {},
   "outputs": [],
   "source": [
    "from sklearn.metrics import log_loss, accuracy_score, f1_score, recall_score, precision_score"
   ]
  },
  {
   "cell_type": "code",
   "execution_count": 14,
   "metadata": {},
   "outputs": [
    {
     "name": "stdout",
     "output_type": "stream",
     "text": [
      "there are 9236 testing examples.\n"
     ]
    }
   ],
   "source": [
    "# get y_true list for all testing samples, order based on test_list\n",
    "y_true = np.array([category_labels[i] for i in test_list])\n",
    "n_test = len(test_list)\n",
    "print(f\"there are {n_test} testing examples.\")"
   ]
  },
  {
   "cell_type": "code",
   "execution_count": 15,
   "metadata": {},
   "outputs": [
    {
     "name": "stdout",
     "output_type": "stream",
     "text": [
      "How random guess works?\n",
      "\n",
      "random guess has log_loss around 0.9785186835446419.\n",
      "random guess has accuracy around 0.5148332611520139.\n",
      "random guess has f1 score around 0.49372952208789966.\n",
      "random guess has recall around 0.5182998819362455.\n",
      "random guess has precision around 0.4733535528596187.\n"
     ]
    }
   ],
   "source": [
    "# let's first take a look at how random guess works\n",
    "log_loss_guess_min = float('inf')\n",
    "acc_guess_max = 0\n",
    "f1_guess_max = 0\n",
    "recall_guess_max = 0\n",
    "precision_guess_max = 0\n",
    "for i in range(100):\n",
    "    y_guess = np.random.random(n_test)\n",
    "    log_loss_guess_min = min(log_loss_guess_min, log_loss(y_true, y_guess))\n",
    "    y_guess = y_guess.round()\n",
    "    acc_guess_max = max(acc_guess_max, accuracy_score(y_true, y_guess))\n",
    "    f1_guess_max = max(f1_guess_max, f1_score(y_true, y_guess))\n",
    "    recall_guess_max = max(recall_guess_max, recall_score(y_true, y_guess))\n",
    "    precision_guess_max = max(precision_guess_max, precision_score(y_true, y_guess))\n",
    "print(\"How random guess works?\\n\")\n",
    "print(f\"random guess has log_loss around {log_loss_guess_min}.\")\n",
    "print(f\"random guess has accuracy around {acc_guess_max}.\")\n",
    "print(f\"random guess has f1 score around {f1_guess_max}.\")\n",
    "print(f\"random guess has recall around {recall_guess_max}.\")\n",
    "print(f\"random guess has precision around {precision_guess_max}.\")"
   ]
  },
  {
   "cell_type": "code",
   "execution_count": 38,
   "metadata": {},
   "outputs": [
    {
     "name": "stderr",
     "output_type": "stream",
     "text": [
      "100%|██████████████████████████████████████████████████████████████████████████████| 9236/9236 [03:23<00:00, 44.18it/s]\n"
     ]
    },
    {
     "name": "stdout",
     "output_type": "stream",
     "text": [
      "In the first way of generating predictions for test set,\n",
      "our model's log_loss is 0.9997163555811566.\n",
      "our model's accuracy is 0.5991771329579905.\n",
      "our model's f1 score is 0.47068916213897627.\n",
      "our model's recall is 0.3886658795749705.\n",
      "our model's precision is 0.5965929684668358.\n",
      "y_pred_prob head:     [0.49, 0.0, 0.37, 0.42, 0.0, 0.28, 0.39, 0.0, 0.28, 0.53, 0.27, 0.32, 0.29, 0.48, 0.0, 0.19, 0.45, 0.48, 0.54, 0.44]\n",
      "y_pred_category head: [0, 0, 0, 0, 0, 0, 0, 0, 0, 1, 0, 0, 0, 0, 0, 0, 0, 0, 1, 0]\n",
      "y_true_category head: [1, 0, 1, 1, 1, 1, 0, 0, 0, 0, 1, 0, 0, 0, 1, 0, 0, 1, 1, 1]\n"
     ]
    }
   ],
   "source": [
    "# -- the 1st way to generate predictions for test set --\n",
    "# access test samples one by one, use model.predict to predict probability for each sample, append it to y_pred_prob_1 list\n",
    "# y_pred_category_1 gives the category prediction\n",
    "y_pred_prob_1 = []\n",
    "for ID in tqdm(test_list):\n",
    "    X_text = np.load(\"D:\\eluvio\\data_\\_pad_seq\" + str(ID) + \".npy\")\n",
    "    X_feature = np.load(\"D:\\eluvio\\data_\\_feature\" + str(ID) + \".npy\")\n",
    "    y_pred_prob_1.append(model.predict(x = [[X_text], [X_feature]]).flatten()[0])\n",
    "y_pred_prob_1 = np.array(y_pred_prob_1)\n",
    "y_pred_category_1 = np.round(K.clip(y_pred_prob_1, 0, 1))\n",
    "\n",
    "print(\"In the first way of generating predictions for test set,\")\n",
    "print(f\"our model's log_loss is {log_loss(y_true, y_pred_prob_1)}.\")\n",
    "print(f\"our model's accuracy is {accuracy_score(y_true, y_pred_category_1)}.\")\n",
    "print(f\"our model's f1 score is {f1_score(y_true, y_pred_category_1)}.\")\n",
    "print(f\"our model's recall is {recall_score(y_true, y_pred_category_1)}.\")\n",
    "print(f\"our model's precision is {precision_score(y_true, y_pred_category_1)}.\")\n",
    "print(f\"y_pred_prob head:     {list(np.around(y_pred_prob_1[:20], 2))}\")\n",
    "print(f\"y_pred_category head: {list(y_pred_category_1[:20].astype(int))}\")\n",
    "print(f\"y_true_category head: {list(y_true[:20])}\")"
   ]
  },
  {
   "cell_type": "code",
   "execution_count": 41,
   "metadata": {},
   "outputs": [
    {
     "name": "stdout",
     "output_type": "stream",
     "text": [
      "In the second way of generating predictions for test set,\n",
      "our model's log_loss is 0.9997169569300348.\n",
      "our model's accuracy is 0.5991771329579905.\n",
      "our model's f1 score is 0.47068916213897627.\n",
      "our model's recall is 0.3886658795749705.\n",
      "our model's precision is 0.5965929684668358.\n",
      "y_pred_prob head:     [0.49, 0.0, 0.37, 0.42, 0.0, 0.28, 0.39, 0.0, 0.28, 0.53, 0.27, 0.32, 0.29, 0.48, 0.0, 0.19, 0.45, 0.48, 0.54, 0.44]\n",
      "y_pred_category head: [0, 0, 0, 0, 0, 0, 0, 0, 0, 1, 0, 0, 0, 0, 0, 0, 0, 0, 1, 0]\n",
      "y_true_category head: [1, 0, 1, 1, 1, 1, 0, 0, 0, 0, 1, 0, 0, 0, 1, 0, 0, 1, 1, 1]\n"
     ]
    }
   ],
   "source": [
    "# -- the 2nd way generate predictions for test set --\n",
    "# apply model.predict_generator to test_generator, with shuffle = False\n",
    "test_generator = DataGenerator(test_list, category_labels, batch_size = n_test, shuffle = False)\n",
    "y_pred_prob_2 = model.predict_generator(test_generator)\n",
    "y_pred_prob_2 = y_pred_prob_2.flatten()\n",
    "y_pred_category_2 = np.round(K.clip(y_pred_prob_2, 0, 1))\n",
    "\n",
    "print(\"In the second way of generating predictions for test set,\")\n",
    "print(f\"our model's log_loss is {log_loss(y_true, y_pred_prob_2)}.\")\n",
    "print(f\"our model's accuracy is {accuracy_score(y_true, y_pred_category_2)}.\")\n",
    "print(f\"our model's f1 score is {f1_score(y_true, y_pred_category_2)}.\")\n",
    "print(f\"our model's recall is {recall_score(y_true, y_pred_category_2)}.\")\n",
    "print(f\"our model's precision is {precision_score(y_true, y_pred_category_2)}.\")\n",
    "print(f\"y_pred_prob head:     {list(np.around(y_pred_prob_2[:20], 2))}\")\n",
    "print(f\"y_pred_category head: {list(y_pred_category_2[:20].astype(int))}\")\n",
    "print(f\"y_true_category head: {list(y_true[:20])}\")"
   ]
  },
  {
   "cell_type": "code",
   "execution_count": 42,
   "metadata": {},
   "outputs": [
    {
     "name": "stdout",
     "output_type": "stream",
     "text": [
      "In the third way of generating predictions for test set,\n",
      "logloss: 0.9997163414955139 \n",
      "accuracy: 0.5991771221160889 \n",
      "f1: 0.4706891179084778 \n",
      "recall: 0.3886658847332001 \n",
      "precision: 0.5965929627418518\n"
     ]
    }
   ],
   "source": [
    "# -- the 3rd way to generate predictions for test set --\n",
    "# apply model.evaluate_generator to test_generator, with shuffle = False\n",
    "test_generator = DataGenerator(test_list, category_labels, batch_size = n_test, shuffle = False)\n",
    "logloss, accuracy, f1, recall, precision = model.evaluate_generator(test_generator)\n",
    "print(\"In the third way of generating predictions for test set,\")\n",
    "print(f\"logloss: {logloss} \\naccuracy: {accuracy} \\nf1: {f1} \\nrecall: {recall} \\nprecision: {precision}\")"
   ]
  },
  {
   "cell_type": "code",
   "execution_count": 24,
   "metadata": {},
   "outputs": [
    {
     "data": {
      "text/plain": [
       "True"
      ]
     },
     "execution_count": 24,
     "metadata": {},
     "output_type": "execute_result"
    }
   ],
   "source": [
    "# The prediction and metrics got from all three ways match with each others\n",
    "(np.round(y_pred_prob_1, 2) == np.round(y_pred_prob_2, 2)).sum() == n_test"
   ]
  },
  {
   "cell_type": "code",
   "execution_count": 34,
   "metadata": {},
   "outputs": [],
   "source": [
    "# get logvotes_labels and compute up_votes = exp(logvotes_labels) - 1\n",
    "logvotes_labels = np.load(\"D:\\eluvio\\data_\\logvotes_labels.npy\")\n",
    "test_logvotes = [logvotes_labels[i] for i in test_list]\n",
    "up_votes = np.round(np.expm1(test_logvotes)).astype(int)"
   ]
  },
  {
   "cell_type": "code",
   "execution_count": 37,
   "metadata": {},
   "outputs": [
    {
     "data": {
      "text/html": [
       "<div>\n",
       "<style scoped>\n",
       "    .dataframe tbody tr th:only-of-type {\n",
       "        vertical-align: middle;\n",
       "    }\n",
       "\n",
       "    .dataframe tbody tr th {\n",
       "        vertical-align: top;\n",
       "    }\n",
       "\n",
       "    .dataframe thead th {\n",
       "        text-align: right;\n",
       "    }\n",
       "</style>\n",
       "<table border=\"1\" class=\"dataframe\">\n",
       "  <thead>\n",
       "    <tr style=\"text-align: right;\">\n",
       "      <th></th>\n",
       "      <th>pred_prob</th>\n",
       "      <th>pred_category</th>\n",
       "      <th>true_category</th>\n",
       "      <th>up_votes</th>\n",
       "    </tr>\n",
       "  </thead>\n",
       "  <tbody>\n",
       "    <tr>\n",
       "      <th>0</th>\n",
       "      <td>0.488183</td>\n",
       "      <td>0.0</td>\n",
       "      <td>1</td>\n",
       "      <td>2098</td>\n",
       "    </tr>\n",
       "    <tr>\n",
       "      <th>1</th>\n",
       "      <td>0.001126</td>\n",
       "      <td>0.0</td>\n",
       "      <td>0</td>\n",
       "      <td>4</td>\n",
       "    </tr>\n",
       "    <tr>\n",
       "      <th>2</th>\n",
       "      <td>0.371942</td>\n",
       "      <td>0.0</td>\n",
       "      <td>1</td>\n",
       "      <td>7</td>\n",
       "    </tr>\n",
       "    <tr>\n",
       "      <th>3</th>\n",
       "      <td>0.418732</td>\n",
       "      <td>0.0</td>\n",
       "      <td>1</td>\n",
       "      <td>27</td>\n",
       "    </tr>\n",
       "    <tr>\n",
       "      <th>4</th>\n",
       "      <td>0.001270</td>\n",
       "      <td>0.0</td>\n",
       "      <td>1</td>\n",
       "      <td>34</td>\n",
       "    </tr>\n",
       "    <tr>\n",
       "      <th>5</th>\n",
       "      <td>0.278937</td>\n",
       "      <td>0.0</td>\n",
       "      <td>1</td>\n",
       "      <td>31</td>\n",
       "    </tr>\n",
       "    <tr>\n",
       "      <th>6</th>\n",
       "      <td>0.389613</td>\n",
       "      <td>0.0</td>\n",
       "      <td>0</td>\n",
       "      <td>3</td>\n",
       "    </tr>\n",
       "    <tr>\n",
       "      <th>7</th>\n",
       "      <td>0.001034</td>\n",
       "      <td>0.0</td>\n",
       "      <td>0</td>\n",
       "      <td>1</td>\n",
       "    </tr>\n",
       "    <tr>\n",
       "      <th>8</th>\n",
       "      <td>0.279896</td>\n",
       "      <td>0.0</td>\n",
       "      <td>0</td>\n",
       "      <td>0</td>\n",
       "    </tr>\n",
       "    <tr>\n",
       "      <th>9</th>\n",
       "      <td>0.528748</td>\n",
       "      <td>1.0</td>\n",
       "      <td>0</td>\n",
       "      <td>4</td>\n",
       "    </tr>\n",
       "    <tr>\n",
       "      <th>10</th>\n",
       "      <td>0.274534</td>\n",
       "      <td>0.0</td>\n",
       "      <td>1</td>\n",
       "      <td>20</td>\n",
       "    </tr>\n",
       "    <tr>\n",
       "      <th>11</th>\n",
       "      <td>0.320271</td>\n",
       "      <td>0.0</td>\n",
       "      <td>0</td>\n",
       "      <td>5</td>\n",
       "    </tr>\n",
       "    <tr>\n",
       "      <th>12</th>\n",
       "      <td>0.287827</td>\n",
       "      <td>0.0</td>\n",
       "      <td>0</td>\n",
       "      <td>0</td>\n",
       "    </tr>\n",
       "    <tr>\n",
       "      <th>13</th>\n",
       "      <td>0.475852</td>\n",
       "      <td>0.0</td>\n",
       "      <td>0</td>\n",
       "      <td>1</td>\n",
       "    </tr>\n",
       "    <tr>\n",
       "      <th>14</th>\n",
       "      <td>0.000840</td>\n",
       "      <td>0.0</td>\n",
       "      <td>1</td>\n",
       "      <td>8</td>\n",
       "    </tr>\n",
       "    <tr>\n",
       "      <th>15</th>\n",
       "      <td>0.193876</td>\n",
       "      <td>0.0</td>\n",
       "      <td>0</td>\n",
       "      <td>5</td>\n",
       "    </tr>\n",
       "    <tr>\n",
       "      <th>16</th>\n",
       "      <td>0.453109</td>\n",
       "      <td>0.0</td>\n",
       "      <td>0</td>\n",
       "      <td>0</td>\n",
       "    </tr>\n",
       "    <tr>\n",
       "      <th>17</th>\n",
       "      <td>0.476694</td>\n",
       "      <td>0.0</td>\n",
       "      <td>1</td>\n",
       "      <td>9</td>\n",
       "    </tr>\n",
       "    <tr>\n",
       "      <th>18</th>\n",
       "      <td>0.539831</td>\n",
       "      <td>1.0</td>\n",
       "      <td>1</td>\n",
       "      <td>482</td>\n",
       "    </tr>\n",
       "    <tr>\n",
       "      <th>19</th>\n",
       "      <td>0.440667</td>\n",
       "      <td>0.0</td>\n",
       "      <td>1</td>\n",
       "      <td>120</td>\n",
       "    </tr>\n",
       "  </tbody>\n",
       "</table>\n",
       "</div>"
      ],
      "text/plain": [
       "    pred_prob  pred_category  true_category  up_votes\n",
       "0    0.488183            0.0              1      2098\n",
       "1    0.001126            0.0              0         4\n",
       "2    0.371942            0.0              1         7\n",
       "3    0.418732            0.0              1        27\n",
       "4    0.001270            0.0              1        34\n",
       "5    0.278937            0.0              1        31\n",
       "6    0.389613            0.0              0         3\n",
       "7    0.001034            0.0              0         1\n",
       "8    0.279896            0.0              0         0\n",
       "9    0.528748            1.0              0         4\n",
       "10   0.274534            0.0              1        20\n",
       "11   0.320271            0.0              0         5\n",
       "12   0.287827            0.0              0         0\n",
       "13   0.475852            0.0              0         1\n",
       "14   0.000840            0.0              1         8\n",
       "15   0.193876            0.0              0         5\n",
       "16   0.453109            0.0              0         0\n",
       "17   0.476694            0.0              1         9\n",
       "18   0.539831            1.0              1       482\n",
       "19   0.440667            0.0              1       120"
      ]
     },
     "execution_count": 37,
     "metadata": {},
     "output_type": "execute_result"
    }
   ],
   "source": [
    "pred_true_df = pd.DataFrame({'pred_prob': y_pred_prob_1, 'pred_category': y_pred_category_1, 'true_category': y_true, 'up_votes': up_votes})\n",
    "pred_true_df.head(20)"
   ]
  },
  {
   "cell_type": "code",
   "execution_count": 43,
   "metadata": {},
   "outputs": [],
   "source": [
    "pred_true_df.to_csv(\"D:\\eluvio\\data_\\classification_pred.csv\")"
   ]
  },
  {
   "cell_type": "code",
   "execution_count": null,
   "metadata": {},
   "outputs": [],
   "source": []
  }
 ],
 "metadata": {
  "kernelspec": {
   "display_name": "Python 3",
   "language": "python",
   "name": "python3"
  },
  "language_info": {
   "codemirror_mode": {
    "name": "ipython",
    "version": 3
   },
   "file_extension": ".py",
   "mimetype": "text/x-python",
   "name": "python",
   "nbconvert_exporter": "python",
   "pygments_lexer": "ipython3",
   "version": "3.7.3"
  }
 },
 "nbformat": 4,
 "nbformat_minor": 2
}
