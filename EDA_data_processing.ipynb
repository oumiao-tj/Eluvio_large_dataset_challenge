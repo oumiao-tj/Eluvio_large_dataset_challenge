{
 "cells": [
  {
   "cell_type": "code",
   "execution_count": 52,
   "metadata": {
    "scrolled": true
   },
   "outputs": [],
   "source": [
    "import pandas as pd\n",
    "import numpy as np\n",
    "import matplotlib.pyplot as plt\n",
    "import collections\n",
    "import random\n",
    "from nltk.corpus import stopwords\n",
    "from nltk.util import ngrams\n",
    "from collections import defaultdict, Counter\n",
    "plt.style.use('ggplot')\n",
    "stop=set(stopwords.words('english'))\n",
    "import re\n",
    "import nltk\n",
    "from nltk.tokenize import word_tokenize\n",
    "import gensim\n",
    "import string\n",
    "from keras.preprocessing.text import Tokenizer\n",
    "from keras.preprocessing.sequence import pad_sequences\n",
    "from tqdm import tqdm\n",
    "from spellchecker import SpellChecker"
   ]
  },
  {
   "cell_type": "code",
   "execution_count": 12,
   "metadata": {
    "scrolled": false
   },
   "outputs": [
    {
     "data": {
      "text/html": [
       "<div>\n",
       "<style scoped>\n",
       "    .dataframe tbody tr th:only-of-type {\n",
       "        vertical-align: middle;\n",
       "    }\n",
       "\n",
       "    .dataframe tbody tr th {\n",
       "        vertical-align: top;\n",
       "    }\n",
       "\n",
       "    .dataframe thead th {\n",
       "        text-align: right;\n",
       "    }\n",
       "</style>\n",
       "<table border=\"1\" class=\"dataframe\">\n",
       "  <thead>\n",
       "    <tr style=\"text-align: right;\">\n",
       "      <th></th>\n",
       "      <th>time_created</th>\n",
       "      <th>date_created</th>\n",
       "      <th>up_votes</th>\n",
       "      <th>down_votes</th>\n",
       "      <th>title</th>\n",
       "      <th>over_18</th>\n",
       "      <th>author</th>\n",
       "      <th>category</th>\n",
       "    </tr>\n",
       "  </thead>\n",
       "  <tbody>\n",
       "    <tr>\n",
       "      <th>0</th>\n",
       "      <td>1201232046</td>\n",
       "      <td>2008-01-25</td>\n",
       "      <td>3</td>\n",
       "      <td>0</td>\n",
       "      <td>Scores killed in Pakistan clashes</td>\n",
       "      <td>False</td>\n",
       "      <td>polar</td>\n",
       "      <td>worldnews</td>\n",
       "    </tr>\n",
       "    <tr>\n",
       "      <th>1</th>\n",
       "      <td>1201232075</td>\n",
       "      <td>2008-01-25</td>\n",
       "      <td>2</td>\n",
       "      <td>0</td>\n",
       "      <td>Japan resumes refuelling mission</td>\n",
       "      <td>False</td>\n",
       "      <td>polar</td>\n",
       "      <td>worldnews</td>\n",
       "    </tr>\n",
       "    <tr>\n",
       "      <th>2</th>\n",
       "      <td>1201232523</td>\n",
       "      <td>2008-01-25</td>\n",
       "      <td>3</td>\n",
       "      <td>0</td>\n",
       "      <td>US presses Egypt on Gaza border</td>\n",
       "      <td>False</td>\n",
       "      <td>polar</td>\n",
       "      <td>worldnews</td>\n",
       "    </tr>\n",
       "    <tr>\n",
       "      <th>3</th>\n",
       "      <td>1201233290</td>\n",
       "      <td>2008-01-25</td>\n",
       "      <td>1</td>\n",
       "      <td>0</td>\n",
       "      <td>Jump-start economy: Give health care to all</td>\n",
       "      <td>False</td>\n",
       "      <td>fadi420</td>\n",
       "      <td>worldnews</td>\n",
       "    </tr>\n",
       "    <tr>\n",
       "      <th>4</th>\n",
       "      <td>1201274720</td>\n",
       "      <td>2008-01-25</td>\n",
       "      <td>4</td>\n",
       "      <td>0</td>\n",
       "      <td>Council of Europe bashes EU&amp;UN terror blacklist</td>\n",
       "      <td>False</td>\n",
       "      <td>mhermans</td>\n",
       "      <td>worldnews</td>\n",
       "    </tr>\n",
       "  </tbody>\n",
       "</table>\n",
       "</div>"
      ],
      "text/plain": [
       "   time_created date_created  up_votes  down_votes  \\\n",
       "0    1201232046   2008-01-25         3           0   \n",
       "1    1201232075   2008-01-25         2           0   \n",
       "2    1201232523   2008-01-25         3           0   \n",
       "3    1201233290   2008-01-25         1           0   \n",
       "4    1201274720   2008-01-25         4           0   \n",
       "\n",
       "                                             title  over_18    author  \\\n",
       "0                Scores killed in Pakistan clashes    False     polar   \n",
       "1                 Japan resumes refuelling mission    False     polar   \n",
       "2                  US presses Egypt on Gaza border    False     polar   \n",
       "3     Jump-start economy: Give health care to all     False   fadi420   \n",
       "4  Council of Europe bashes EU&UN terror blacklist    False  mhermans   \n",
       "\n",
       "    category  \n",
       "0  worldnews  \n",
       "1  worldnews  \n",
       "2  worldnews  \n",
       "3  worldnews  \n",
       "4  worldnews  "
      ]
     },
     "execution_count": 12,
     "metadata": {},
     "output_type": "execute_result"
    }
   ],
   "source": [
    "# Take a look at the first 5 rows in the csv file\n",
    "sample_df = pd.read_csv(r'D:\\eluvio\\Eluvio_DS_Challenge.csv', nrows = 5)\n",
    "sample_df"
   ]
  },
  {
   "cell_type": "code",
   "execution_count": 13,
   "metadata": {},
   "outputs": [
    {
     "name": "stdout",
     "output_type": "stream",
     "text": [
      "chunksize: 10000, chunk_count: 51, n_rows: 509236\n"
     ]
    }
   ],
   "source": [
    "# set chunksize = 10000 and access csv file chunk by chunk\n",
    "# get chunk_count and n_rows in the whole csv file\n",
    "chunksize = 10000\n",
    "chunks = pd.read_csv(r'D:\\eluvio\\Eluvio_DS_Challenge.csv', iterator = True, chunksize = chunksize)\n",
    "chunk_count = 0\n",
    "n_rows = 0\n",
    "for chunk in chunks:\n",
    "    df = pd.DataFrame(chunk)\n",
    "    chunk_count += 1\n",
    "    n_rows += df.shape[0]\n",
    "print(f\"chunksize: {chunksize}, chunk_count: {chunk_count}, n_rows: {n_rows}\")"
   ]
  },
  {
   "cell_type": "code",
   "execution_count": 14,
   "metadata": {
    "scrolled": true
   },
   "outputs": [],
   "source": [
    "# hashmap value_counts caches counting info for each column, except for 'time_created'\n",
    "chunks = pd.read_csv(r'D:\\eluvio\\Eluvio_DS_Challenge.csv', iterator = True, chunksize = chunksize)\n",
    "cols = ['up_votes', 'down_votes', 'title_words_len', 'over_18', 'author', 'category']\n",
    "value_counts = {col: defaultdict(int) for col in cols}\n",
    "value_counts['date_created'] = {}\n",
    "for chunk in chunks:\n",
    "    df = pd.DataFrame(chunk)\n",
    "    df['title_words_len'] = df['title'].str.strip().str.split().str.len()\n",
    "    for col in cols:\n",
    "        curr_value_counts = df[col].value_counts()\n",
    "        for key in curr_value_counts.keys():\n",
    "            value_counts[col][key] += curr_value_counts[key]\n",
    "    col = 'date_created'\n",
    "    for curr_date, curr_df in df.groupby(col, sort = False):\n",
    "        if curr_date in value_counts[col]:\n",
    "            value_counts[col][curr_date][0] += curr_df[col].size\n",
    "            value_counts[col][curr_date][1] += curr_df['up_votes'].sum()\n",
    "        else:\n",
    "            value_counts[col][curr_date] = [curr_df[col].size, curr_df['up_votes'].sum()]"
   ]
  },
  {
   "cell_type": "code",
   "execution_count": 15,
   "metadata": {},
   "outputs": [
    {
     "name": "stdout",
     "output_type": "stream",
     "text": [
      "up_votes_unique 5782\n",
      "down_votes_unique 1\n",
      "title_words_len_unique 64\n",
      "over_18_unique 2\n",
      "author_unique 85838\n",
      "category_unique 1\n",
      "date_created_unique 3223\n"
     ]
    }
   ],
   "source": [
    "# obeserve each of 'down_votes' and 'category' has only 1 value\n",
    "# we can ignore those two columns\n",
    "for col in cols + ['date_created']:\n",
    "    print(col + '_unique', len(value_counts[col]))"
   ]
  },
  {
   "cell_type": "code",
   "execution_count": 16,
   "metadata": {
    "scrolled": true
   },
   "outputs": [
    {
     "name": "stdout",
     "output_type": "stream",
     "text": [
      "there are 275854 pubs with up_votes <= 5\n"
     ]
    }
   ],
   "source": [
    "# up_votes info\n",
    "# this is saying there are 275335 rows with up_votes between [0, 5], out of 509236 rows\n",
    "# it motivates me to consider the binary classification problem\n",
    "up_votes_count = value_counts['up_votes']\n",
    "i = 0\n",
    "total = 0\n",
    "while total < n_rows // 2:\n",
    "    total += up_votes_count[i]\n",
    "    i += 1\n",
    "print(f\"there are {total} pubs with up_votes <= {i-1}\")"
   ]
  },
  {
   "cell_type": "code",
   "execution_count": 17,
   "metadata": {},
   "outputs": [],
   "source": [
    "# define a category_map to convert up_votes to binary data\n",
    "def category_map(up_votes):\n",
    "    if up_votes <= 5:\n",
    "        return 0\n",
    "    else:\n",
    "        return 1"
   ]
  },
  {
   "cell_type": "code",
   "execution_count": 18,
   "metadata": {},
   "outputs": [
    {
     "data": {
      "text/plain": [
       "21253"
      ]
     },
     "execution_count": 18,
     "metadata": {},
     "output_type": "execute_result"
    }
   ],
   "source": [
    "# max up_votes amoung all pubs\n",
    "max(up_votes_count.keys())"
   ]
  },
  {
   "cell_type": "code",
   "execution_count": 19,
   "metadata": {},
   "outputs": [
    {
     "data": {
      "image/png": "[encoded data removed]",
      "text/plain": [
       "<Figure size 1008x360 with 1 Axes>"
      ]
     },
     "metadata": {},
     "output_type": "display_data"
    },
    {
     "name": "stdout",
     "output_type": "stream",
     "text": [
      "\n",
      "\n"
     ]
    }
   ],
   "source": [
    "lists = sorted(up_votes_count.items())\n",
    "x, y = zip(*lists)\n",
    "fig, ax = plt.subplots(figsize = (14,5))\n",
    "ax.bar(x[:20], y[:20])\n",
    "ax.set(xlabel= 'up_votes', title = 'up_votes_count')\n",
    "plt.xticks(range(20))\n",
    "ax.grid()\n",
    "plt.show()\n",
    "print('\\n')"
   ]
  },
  {
   "cell_type": "code",
   "execution_count": 20,
   "metadata": {
    "scrolled": true
   },
   "outputs": [
    {
     "name": "stdout",
     "output_type": "stream",
     "text": [
      "64 1 64\n"
     ]
    }
   ],
   "source": [
    "# title_words_len info\n",
    "len_count = value_counts['title_words_len']\n",
    "print(len(len_count), min(len_count.keys()), max(len_count.keys()))"
   ]
  },
  {
   "cell_type": "code",
   "execution_count": 21,
   "metadata": {},
   "outputs": [
    {
     "data": {
      "image/png": "[encoded data removed]",
      "text/plain": [
       "<Figure size 1440x432 with 1 Axes>"
      ]
     },
     "metadata": {},
     "output_type": "display_data"
    },
    {
     "name": "stdout",
     "output_type": "stream",
     "text": [
      "\n",
      "\n"
     ]
    }
   ],
   "source": [
    "lists = sorted(len_count.items())\n",
    "x, y = zip(*lists)\n",
    "fig, ax = plt.subplots(figsize = (20,6))\n",
    "ax.bar(x, y)\n",
    "ax.set(xlabel= 'title_words_len', title = 'title_words_len_count')\n",
    "plt.xticks(range(1, 65))\n",
    "ax.grid()\n",
    "plt.show()\n",
    "print('\\n')"
   ]
  },
  {
   "cell_type": "code",
   "execution_count": 22,
   "metadata": {},
   "outputs": [
    {
     "data": {
      "text/plain": [
       "False    508916\n",
       "True        320\n",
       "dtype: int64"
      ]
     },
     "execution_count": 22,
     "metadata": {},
     "output_type": "execute_result"
    }
   ],
   "source": [
    "# over_18 info\n",
    "# it's very unbalanced\n",
    "over_18_count = value_counts['over_18']\n",
    "pd.Series(over_18_count)"
   ]
  },
  {
   "cell_type": "code",
   "execution_count": 23,
   "metadata": {
    "scrolled": true
   },
   "outputs": [
    {
     "name": "stdout",
     "output_type": "stream",
     "text": [
      "54640 out of 85838 authors published 1 publications\n",
      "11351 out of 85838 authors published 2 publications\n",
      "4983 out of 85838 authors published 3 publications\n",
      "2865 out of 85838 authors published 4 publications\n",
      "1815 out of 85838 authors published 5 publications\n",
      "1367 out of 85838 authors published 6 publications\n",
      "1079 out of 85838 authors published 7 publications\n",
      "800 out of 85838 authors published 8 publications\n",
      "657 out of 85838 authors published 9 publications\n",
      "531 out of 85838 authors published 10 publications\n"
     ]
    }
   ],
   "source": [
    "# author info\n",
    "author_count = value_counts['author']\n",
    "buckets = Counter(list(author_count.values()))\n",
    "for i in range(1, 11):\n",
    "    print(f\"{buckets[i]} out of 85838 authors published {i} publications\")"
   ]
  },
  {
   "cell_type": "code",
   "execution_count": 24,
   "metadata": {},
   "outputs": [
    {
     "data": {
      "image/png": "[encoded data removed]",
      "text/plain": [
       "<Figure size 1008x360 with 1 Axes>"
      ]
     },
     "metadata": {},
     "output_type": "display_data"
    },
    {
     "name": "stdout",
     "output_type": "stream",
     "text": [
      "\n",
      "\n"
     ]
    }
   ],
   "source": [
    "lists = sorted(buckets.items())\n",
    "x, y = zip(*lists)\n",
    "fig, ax = plt.subplots(figsize = (14,5))\n",
    "ax.bar(x[:10], y[:10])\n",
    "ax.set(xlabel= 'n_pub', ylabel = 'n_author', title = 'author_pub_count')\n",
    "plt.xticks(range(1, 11))\n",
    "ax.grid()\n",
    "plt.show()\n",
    "print('\\n')"
   ]
  },
  {
   "cell_type": "code",
   "execution_count": 25,
   "metadata": {},
   "outputs": [
    {
     "data": {
      "text/html": [
       "<div>\n",
       "<style scoped>\n",
       "    .dataframe tbody tr th:only-of-type {\n",
       "        vertical-align: middle;\n",
       "    }\n",
       "\n",
       "    .dataframe tbody tr th {\n",
       "        vertical-align: top;\n",
       "    }\n",
       "\n",
       "    .dataframe thead th {\n",
       "        text-align: right;\n",
       "    }\n",
       "</style>\n",
       "<table border=\"1\" class=\"dataframe\">\n",
       "  <thead>\n",
       "    <tr style=\"text-align: right;\">\n",
       "      <th></th>\n",
       "      <th>date</th>\n",
       "      <th>pubs_count</th>\n",
       "      <th>up_votes_count</th>\n",
       "      <th>year</th>\n",
       "      <th>month</th>\n",
       "      <th>weekday</th>\n",
       "    </tr>\n",
       "  </thead>\n",
       "  <tbody>\n",
       "    <tr>\n",
       "      <th>0</th>\n",
       "      <td>2008-01-25</td>\n",
       "      <td>7</td>\n",
       "      <td>33</td>\n",
       "      <td>2008</td>\n",
       "      <td>1</td>\n",
       "      <td>4</td>\n",
       "    </tr>\n",
       "    <tr>\n",
       "      <th>1</th>\n",
       "      <td>2008-01-28</td>\n",
       "      <td>2</td>\n",
       "      <td>4</td>\n",
       "      <td>2008</td>\n",
       "      <td>1</td>\n",
       "      <td>0</td>\n",
       "    </tr>\n",
       "    <tr>\n",
       "      <th>2</th>\n",
       "      <td>2008-01-29</td>\n",
       "      <td>1</td>\n",
       "      <td>3</td>\n",
       "      <td>2008</td>\n",
       "      <td>1</td>\n",
       "      <td>1</td>\n",
       "    </tr>\n",
       "    <tr>\n",
       "      <th>3</th>\n",
       "      <td>2008-01-30</td>\n",
       "      <td>3</td>\n",
       "      <td>14</td>\n",
       "      <td>2008</td>\n",
       "      <td>1</td>\n",
       "      <td>2</td>\n",
       "    </tr>\n",
       "    <tr>\n",
       "      <th>4</th>\n",
       "      <td>2008-01-31</td>\n",
       "      <td>5</td>\n",
       "      <td>16</td>\n",
       "      <td>2008</td>\n",
       "      <td>1</td>\n",
       "      <td>3</td>\n",
       "    </tr>\n",
       "  </tbody>\n",
       "</table>\n",
       "</div>"
      ],
      "text/plain": [
       "        date  pubs_count  up_votes_count  year  month  weekday\n",
       "0 2008-01-25           7              33  2008      1        4\n",
       "1 2008-01-28           2               4  2008      1        0\n",
       "2 2008-01-29           1               3  2008      1        1\n",
       "3 2008-01-30           3              14  2008      1        2\n",
       "4 2008-01-31           5              16  2008      1        3"
      ]
     },
     "execution_count": 25,
     "metadata": {},
     "output_type": "execute_result"
    }
   ],
   "source": [
    "# process date_count info\n",
    "date_count = value_counts['date_created']\n",
    "date_count_df = pd.DataFrame({'date': list(date_count.keys()), 'pubs_count': [x[0] for x in date_count.values()],\n",
    "                              'up_votes_count': [x[1] for x in date_count.values()]})\n",
    "date_count_df['date'] = pd.to_datetime(date_count_df['date'])\n",
    "date_count_df['year'] = date_count_df['date'].dt.year\n",
    "date_count_df['month'] = date_count_df['date'].dt.month\n",
    "date_count_df['weekday'] = date_count_df['date'].dt.weekday\n",
    "date_count_df.sort_values(by = 'date', inplace = True)\n",
    "\n",
    "date_count_df.head()"
   ]
  },
  {
   "cell_type": "code",
   "execution_count": 26,
   "metadata": {},
   "outputs": [
    {
     "data": {
      "image/png": "[encoded data removed]",
      "text/plain": [
       "<Figure size 720x288 with 1 Axes>"
      ]
     },
     "metadata": {},
     "output_type": "display_data"
    },
    {
     "name": "stdout",
     "output_type": "stream",
     "text": [
      "\n",
      "\n"
     ]
    },
    {
     "data": {
      "image/png": "[encoded data removed]",
      "text/plain": [
       "<Figure size 720x288 with 1 Axes>"
      ]
     },
     "metadata": {},
     "output_type": "display_data"
    },
    {
     "name": "stdout",
     "output_type": "stream",
     "text": [
      "\n",
      "\n"
     ]
    },
    {
     "data": {
      "image/png": "[encoded data removed]",
      "text/plain": [
       "<Figure size 720x288 with 1 Axes>"
      ]
     },
     "metadata": {},
     "output_type": "display_data"
    },
    {
     "name": "stdout",
     "output_type": "stream",
     "text": [
      "\n",
      "\n"
     ]
    }
   ],
   "source": [
    "# According to the following plot, 'ave_up_votes_per_pub' is affected mostly by year, rather than month and weekday\n",
    "for col in ['year', 'month', 'weekday']:\n",
    "    x, y = [], []\n",
    "    for curr_val, curr_df in date_count_df.groupby(col):\n",
    "        x.append(curr_val)\n",
    "        y.append(curr_df['up_votes_count'].sum() / curr_df['pubs_count'].sum())\n",
    "    fig, ax = plt.subplots(figsize = (10,4))\n",
    "    ax.bar(x, y)\n",
    "    ax.set(xlabel= col, title = 'ave_up_votes_per_pub')\n",
    "    plt.xticks(range(x[0], x[-1] + 1))\n",
    "    ax.grid()\n",
    "    plt.show()\n",
    "    print('\\n')"
   ]
  },
  {
   "cell_type": "code",
   "execution_count": 27,
   "metadata": {},
   "outputs": [],
   "source": [
    "#  Analyze 'category' column\n",
    "# 'category' = 0 if 'up_votes' <= 5 else 1\n",
    "chunks = pd.read_csv(r'D:\\eluvio\\Eluvio_DS_Challenge.csv', iterator = True, chunksize = chunksize)\n",
    "cols = ['over_18', 'author', 'date_created']\n",
    "category_counts = {col: defaultdict(int) for col in cols}\n",
    "for chunk in chunks:\n",
    "    df = pd.DataFrame(chunk)\n",
    "    df['category'] = df['up_votes'].map(category_map)\n",
    "    for col in cols:\n",
    "        for key, curr_df in df.groupby(col, sort = False):\n",
    "            category_counts[col][key] += curr_df['category'].sum()"
   ]
  },
  {
   "cell_type": "code",
   "execution_count": 28,
   "metadata": {},
   "outputs": [
    {
     "data": {
      "text/plain": [
       "False    0.458217\n",
       "True     0.587500\n",
       "dtype: float64"
      ]
     },
     "execution_count": 28,
     "metadata": {},
     "output_type": "execute_result"
    }
   ],
   "source": [
    "# over_18 ave_category\n",
    "pd.Series(category_counts['over_18']) / pd.Series(over_18_count)"
   ]
  },
  {
   "cell_type": "code",
   "execution_count": 29,
   "metadata": {},
   "outputs": [
    {
     "name": "stdout",
     "output_type": "stream",
     "text": [
      "26703 authors sit in category 1 for all his/her pubs\n"
     ]
    },
    {
     "data": {
      "text/html": [
       "<div>\n",
       "<style scoped>\n",
       "    .dataframe tbody tr th:only-of-type {\n",
       "        vertical-align: middle;\n",
       "    }\n",
       "\n",
       "    .dataframe tbody tr th {\n",
       "        vertical-align: top;\n",
       "    }\n",
       "\n",
       "    .dataframe thead th {\n",
       "        text-align: right;\n",
       "    }\n",
       "</style>\n",
       "<table border=\"1\" class=\"dataframe\">\n",
       "  <thead>\n",
       "    <tr style=\"text-align: right;\">\n",
       "      <th></th>\n",
       "      <th>author</th>\n",
       "      <th>pub_count</th>\n",
       "      <th>category_count</th>\n",
       "      <th>ave_category</th>\n",
       "    </tr>\n",
       "  </thead>\n",
       "  <tbody>\n",
       "    <tr>\n",
       "      <th>6923</th>\n",
       "      <td>anutensil</td>\n",
       "      <td>5730</td>\n",
       "      <td>4260</td>\n",
       "      <td>0.743455</td>\n",
       "    </tr>\n",
       "    <tr>\n",
       "      <th>1194</th>\n",
       "      <td>davidreiss666</td>\n",
       "      <td>8897</td>\n",
       "      <td>3984</td>\n",
       "      <td>0.447791</td>\n",
       "    </tr>\n",
       "    <tr>\n",
       "      <th>17</th>\n",
       "      <td>maxwellhill</td>\n",
       "      <td>4023</td>\n",
       "      <td>3580</td>\n",
       "      <td>0.889883</td>\n",
       "    </tr>\n",
       "    <tr>\n",
       "      <th>16516</th>\n",
       "      <td>DoremusJessup</td>\n",
       "      <td>5037</td>\n",
       "      <td>2826</td>\n",
       "      <td>0.561048</td>\n",
       "    </tr>\n",
       "    <tr>\n",
       "      <th>7190</th>\n",
       "      <td>madam1</td>\n",
       "      <td>2658</td>\n",
       "      <td>1596</td>\n",
       "      <td>0.600451</td>\n",
       "    </tr>\n",
       "  </tbody>\n",
       "</table>\n",
       "</div>"
      ],
      "text/plain": [
       "              author  pub_count  category_count  ave_category\n",
       "6923       anutensil       5730            4260      0.743455\n",
       "1194   davidreiss666       8897            3984      0.447791\n",
       "17       maxwellhill       4023            3580      0.889883\n",
       "16516  DoremusJessup       5037            2826      0.561048\n",
       "7190          madam1       2658            1596      0.600451"
      ]
     },
     "execution_count": 29,
     "metadata": {},
     "output_type": "execute_result"
    }
   ],
   "source": [
    "# author ave_category    \n",
    "df1 = pd.DataFrame({'author': list(author_count.keys()), 'pub_count': list(author_count.values())})\n",
    "df2 = pd.DataFrame({'author': list(category_counts['author'].keys()), 'category_count': list(category_counts['author'].values())})\n",
    "author_df = df1.merge(df2, on = 'author')\n",
    "author_df['ave_category'] = author_df['category_count'] / author_df['pub_count']\n",
    "# See how many authors sit in category 1 for all his/her pubs\n",
    "print(f\"{author_df[author_df['ave_category'] == 1].shape[0]} authors sit in category 1 for all his/her pubs\")\n",
    "author_df.sort_values(by = 'category_count', ascending = False, inplace = True)\n",
    "author_df.head()"
   ]
  },
  {
   "cell_type": "code",
   "execution_count": 30,
   "metadata": {},
   "outputs": [],
   "source": [
    "# get ave_category according to date info\n",
    "date_category_df = pd.DataFrame({'date': list(category_counts['date_created'].keys()),\n",
    "                                 'category_count': list(category_counts['date_created'].values())})\n",
    "date_category_df['date'] = pd.to_datetime(date_category_df['date'])\n",
    "date_count_df = date_count_df.merge(date_category_df, on = 'date')\n",
    "date_count_df['daily_ave_category'] = date_count_df['category_count'] / date_count_df['pubs_count']"
   ]
  },
  {
   "cell_type": "code",
   "execution_count": 31,
   "metadata": {
    "scrolled": true
   },
   "outputs": [
    {
     "data": {
      "text/html": [
       "<div>\n",
       "<style scoped>\n",
       "    .dataframe tbody tr th:only-of-type {\n",
       "        vertical-align: middle;\n",
       "    }\n",
       "\n",
       "    .dataframe tbody tr th {\n",
       "        vertical-align: top;\n",
       "    }\n",
       "\n",
       "    .dataframe thead th {\n",
       "        text-align: right;\n",
       "    }\n",
       "</style>\n",
       "<table border=\"1\" class=\"dataframe\">\n",
       "  <thead>\n",
       "    <tr style=\"text-align: right;\">\n",
       "      <th></th>\n",
       "      <th>date</th>\n",
       "      <th>pubs_count</th>\n",
       "      <th>up_votes_count</th>\n",
       "      <th>year</th>\n",
       "      <th>month</th>\n",
       "      <th>weekday</th>\n",
       "      <th>category_count</th>\n",
       "      <th>daily_ave_category</th>\n",
       "    </tr>\n",
       "  </thead>\n",
       "  <tbody>\n",
       "    <tr>\n",
       "      <th>0</th>\n",
       "      <td>2008-01-25</td>\n",
       "      <td>7</td>\n",
       "      <td>33</td>\n",
       "      <td>2008</td>\n",
       "      <td>1</td>\n",
       "      <td>4</td>\n",
       "      <td>1</td>\n",
       "      <td>0.142857</td>\n",
       "    </tr>\n",
       "    <tr>\n",
       "      <th>1</th>\n",
       "      <td>2008-01-28</td>\n",
       "      <td>2</td>\n",
       "      <td>4</td>\n",
       "      <td>2008</td>\n",
       "      <td>1</td>\n",
       "      <td>0</td>\n",
       "      <td>0</td>\n",
       "      <td>0.000000</td>\n",
       "    </tr>\n",
       "    <tr>\n",
       "      <th>2</th>\n",
       "      <td>2008-01-29</td>\n",
       "      <td>1</td>\n",
       "      <td>3</td>\n",
       "      <td>2008</td>\n",
       "      <td>1</td>\n",
       "      <td>1</td>\n",
       "      <td>0</td>\n",
       "      <td>0.000000</td>\n",
       "    </tr>\n",
       "    <tr>\n",
       "      <th>3</th>\n",
       "      <td>2008-01-30</td>\n",
       "      <td>3</td>\n",
       "      <td>14</td>\n",
       "      <td>2008</td>\n",
       "      <td>1</td>\n",
       "      <td>2</td>\n",
       "      <td>1</td>\n",
       "      <td>0.333333</td>\n",
       "    </tr>\n",
       "    <tr>\n",
       "      <th>4</th>\n",
       "      <td>2008-01-31</td>\n",
       "      <td>5</td>\n",
       "      <td>16</td>\n",
       "      <td>2008</td>\n",
       "      <td>1</td>\n",
       "      <td>3</td>\n",
       "      <td>1</td>\n",
       "      <td>0.200000</td>\n",
       "    </tr>\n",
       "  </tbody>\n",
       "</table>\n",
       "</div>"
      ],
      "text/plain": [
       "        date  pubs_count  up_votes_count  year  month  weekday  \\\n",
       "0 2008-01-25           7              33  2008      1        4   \n",
       "1 2008-01-28           2               4  2008      1        0   \n",
       "2 2008-01-29           1               3  2008      1        1   \n",
       "3 2008-01-30           3              14  2008      1        2   \n",
       "4 2008-01-31           5              16  2008      1        3   \n",
       "\n",
       "   category_count  daily_ave_category  \n",
       "0               1            0.142857  \n",
       "1               0            0.000000  \n",
       "2               0            0.000000  \n",
       "3               1            0.333333  \n",
       "4               1            0.200000  "
      ]
     },
     "execution_count": 31,
     "metadata": {},
     "output_type": "execute_result"
    }
   ],
   "source": [
    "date_count_df.head()"
   ]
  },
  {
   "cell_type": "code",
   "execution_count": 32,
   "metadata": {},
   "outputs": [
    {
     "name": "stderr",
     "output_type": "stream",
     "text": [
      "D:\\Python\\lib\\site-packages\\pandas\\plotting\\_converter.py:129: FutureWarning: Using an implicitly registered datetime converter for a matplotlib plotting method. The converter was registered by pandas on import. Future versions of pandas will require you to explicitly register matplotlib converters.\n",
      "\n",
      "To register the converters:\n",
      "\t>>> from pandas.plotting import register_matplotlib_converters\n",
      "\t>>> register_matplotlib_converters()\n",
      "  warnings.warn(msg, FutureWarning)\n"
     ]
    },
    {
     "data": {
      "image/png": "[encoded data removed]",
      "text/plain": [
       "<Figure size 1440x432 with 1 Axes>"
      ]
     },
     "metadata": {},
     "output_type": "display_data"
    },
    {
     "name": "stdout",
     "output_type": "stream",
     "text": [
      "\n",
      "\n"
     ]
    }
   ],
   "source": [
    "fig, ax = plt.subplots(figsize = (20,6))\n",
    "ax.bar(date_count_df['date'], date_count_df['daily_ave_category'])\n",
    "ax.set(xlabel= 'time', title = 'daily_ave_category')\n",
    "ax.grid()\n",
    "plt.show()\n",
    "print('\\n')"
   ]
  },
  {
   "cell_type": "code",
   "execution_count": 33,
   "metadata": {
    "scrolled": false
   },
   "outputs": [
    {
     "data": {
      "image/png": "[encoded data removed]",
      "text/plain": [
       "<Figure size 720x288 with 1 Axes>"
      ]
     },
     "metadata": {},
     "output_type": "display_data"
    },
    {
     "name": "stdout",
     "output_type": "stream",
     "text": [
      "\n",
      "\n"
     ]
    },
    {
     "data": {
      "image/png": "[encoded data removed]",
      "text/plain": [
       "<Figure size 720x288 with 1 Axes>"
      ]
     },
     "metadata": {},
     "output_type": "display_data"
    },
    {
     "name": "stdout",
     "output_type": "stream",
     "text": [
      "\n",
      "\n"
     ]
    },
    {
     "data": {
      "image/png": "[encoded data removed]",
      "text/plain": [
       "<Figure size 720x288 with 1 Axes>"
      ]
     },
     "metadata": {},
     "output_type": "display_data"
    },
    {
     "name": "stdout",
     "output_type": "stream",
     "text": [
      "\n",
      "\n"
     ]
    }
   ],
   "source": [
    "# According to the following plot, 'ave_category_per_pub' is affected mostly by year, rather than month and weekday\n",
    "for col in ['year', 'month', 'weekday']:\n",
    "    x, y = [], []\n",
    "    for curr_val, curr_df in date_count_df.groupby(col):\n",
    "        x.append(curr_val)\n",
    "        y.append(curr_df['daily_ave_category'].sum())\n",
    "    fig, ax = plt.subplots(figsize = (10,4))\n",
    "    ax.bar(x, y)\n",
    "    ax.set(xlabel= col, title = 'ave_category_per_pub')\n",
    "    plt.xticks(range(x[0], x[-1] + 1))\n",
    "    ax.grid()\n",
    "    plt.show()\n",
    "    print('\\n')"
   ]
  },
  {
   "cell_type": "code",
   "execution_count": 34,
   "metadata": {},
   "outputs": [
    {
     "data": {
      "text/html": [
       "<div>\n",
       "<style scoped>\n",
       "    .dataframe tbody tr th:only-of-type {\n",
       "        vertical-align: middle;\n",
       "    }\n",
       "\n",
       "    .dataframe tbody tr th {\n",
       "        vertical-align: top;\n",
       "    }\n",
       "\n",
       "    .dataframe thead th {\n",
       "        text-align: right;\n",
       "    }\n",
       "</style>\n",
       "<table border=\"1\" class=\"dataframe\">\n",
       "  <thead>\n",
       "    <tr style=\"text-align: right;\">\n",
       "      <th></th>\n",
       "      <th>year</th>\n",
       "      <th>month_c</th>\n",
       "      <th>month_s</th>\n",
       "      <th>weekday_c</th>\n",
       "      <th>weekday_s</th>\n",
       "    </tr>\n",
       "  </thead>\n",
       "  <tbody>\n",
       "    <tr>\n",
       "      <th>0</th>\n",
       "      <td>0.25</td>\n",
       "      <td>0.5</td>\n",
       "      <td>-0.866025</td>\n",
       "      <td>0.62349</td>\n",
       "      <td>-0.781831</td>\n",
       "    </tr>\n",
       "  </tbody>\n",
       "</table>\n",
       "</div>"
      ],
      "text/plain": [
       "   year  month_c   month_s  weekday_c  weekday_s\n",
       "0  0.25      0.5 -0.866025    0.62349  -0.781831"
      ]
     },
     "execution_count": 34,
     "metadata": {},
     "output_type": "execute_result"
    }
   ],
   "source": [
    "# encode date, normalize year, decompose each of month and weekday into a 2-dim (cos theta, sin theta) vector\n",
    "def encode_date(date_df):\n",
    "    date_df = pd.to_datetime(date_df)\n",
    "    encoding_df = pd.DataFrame()\n",
    "    encoding_df['year'] = (date_df.dt.year - 2008) / 8\n",
    "    encoding_df['month'] = date_df.dt.month\n",
    "    encoding_df['month_c'] = np.cos(np.pi * encoding_df['month'] / 6)\n",
    "    encoding_df['month_s'] = np.sin(np.pi * encoding_df['month'] / 6)\n",
    "    encoding_df['weekday'] = date_df.dt.weekday\n",
    "    encoding_df['weekday_c'] = np.cos(2 * np.pi * encoding_df['weekday'] / 7)\n",
    "    encoding_df['weekday_s'] = np.sin(2 * np.pi * encoding_df['weekday'] / 7)\n",
    "    return encoding_df[['year', 'month_c', 'month_s', 'weekday_c', 'weekday_s']]\n",
    "# for instance\n",
    "encode_date(pd.Series(['2010-10-10']))"
   ]
  },
  {
   "cell_type": "code",
   "execution_count": 35,
   "metadata": {},
   "outputs": [],
   "source": [
    "# Next, analyze texts in 'title' column"
   ]
  },
  {
   "cell_type": "code",
   "execution_count": 36,
   "metadata": {},
   "outputs": [],
   "source": [
    "def clean_text(text):\n",
    "    url = re.compile(r'https?://\\S+|www\\.\\S+')\n",
    "    text = url.sub(r'', text)\n",
    "    html = re.compile(r'<.*?>')\n",
    "    text = html.sub(r'', text)\n",
    "    table=str.maketrans('','',string.punctuation)\n",
    "    text.translate(table)\n",
    "    return text\n",
    "\n",
    "def words_token(text):\n",
    "    words = [word.lower() for word in word_tokenize(text) if((word.isalpha()==1) & (word not in stop))]\n",
    "    return words\n",
    "\n",
    "embedding_dict={}\n",
    "with open('glove.6B.50d.txt','r', encoding='utf-8') as f:\n",
    "    for line in f:\n",
    "        values=line.split()\n",
    "        word=values[0]\n",
    "        vectors=np.asarray(values[1:],'float32')\n",
    "        embedding_dict[word]=vectors\n",
    "f.close()\n",
    "\n",
    "spell = SpellChecker()\n",
    "def correct_spellings(text):\n",
    "    corrected_text = []\n",
    "    misspelled_words = spell.unknown(text.split())\n",
    "    for word in text.split():\n",
    "        if word in misspelled_words:\n",
    "            corrected_text.append(spell.correction(word))\n",
    "        else:\n",
    "            corrected_text.append(word)\n",
    "    return \" \".join(corrected_text)"
   ]
  },
  {
   "cell_type": "code",
   "execution_count": 37,
   "metadata": {},
   "outputs": [],
   "source": [
    "tokenizer=Tokenizer()\n",
    "words_freq = defaultdict(int)"
   ]
  },
  {
   "cell_type": "code",
   "execution_count": 38,
   "metadata": {},
   "outputs": [
    {
     "name": "stderr",
     "output_type": "stream",
     "text": [
      "51it [04:48,  4.93s/it]\n"
     ]
    }
   ],
   "source": [
    "chunks = pd.read_csv(r'D:\\eluvio\\Eluvio_DS_Challenge.csv', iterator = True, chunksize = chunksize)\n",
    "for chunk in tqdm(chunks):\n",
    "    df = pd.DataFrame(chunk)\n",
    "    corpus = df['title'].map(clean_text).map(words_token)\n",
    "    tokenizer.fit_on_texts(corpus)\n",
    "    for lists in corpus:\n",
    "        for word in lists:\n",
    "            words_freq[word] += 1"
   ]
  },
  {
   "cell_type": "code",
   "execution_count": 39,
   "metadata": {},
   "outputs": [
    {
     "name": "stdout",
     "output_type": "stream",
     "text": [
      "Number of unique words: 81403\n"
     ]
    }
   ],
   "source": [
    "word_index=tokenizer.word_index\n",
    "print('Number of unique words:',len(word_index))"
   ]
  },
  {
   "cell_type": "code",
   "execution_count": 40,
   "metadata": {},
   "outputs": [
    {
     "name": "stderr",
     "output_type": "stream",
     "text": [
      "100%|█████████████████████████████████████████████████████████████████████████| 81403/81403 [00:01<00:00, 77173.57it/s]\n"
     ]
    },
    {
     "name": "stdout",
     "output_type": "stream",
     "text": [
      "there are 13741 unknown words, for example:\n",
      "['brexit', 'isil', 'xpost', 'daesh', 'kobani', 'ttip', 'kobane', 'nusra', 'selfie', 'pegida'] ...\n"
     ]
    }
   ],
   "source": [
    "num_words = len(word_index) + 1\n",
    "embedding_matrix = np.zeros((num_words, 50))\n",
    "unknowns = []\n",
    "for word, i in tqdm(word_index.items()):\n",
    "    if i > num_words:\n",
    "        continue   \n",
    "    emb_vec = embedding_dict.get(word)\n",
    "    if emb_vec is not None:\n",
    "        embedding_matrix[i]=emb_vec\n",
    "    else:\n",
    "        unknowns.append(word)\n",
    "print(f\"there are {len(unknowns)} unknown words, for example:\")\n",
    "print(unknowns[:10], '...')"
   ]
  },
  {
   "cell_type": "code",
   "execution_count": 41,
   "metadata": {},
   "outputs": [
    {
     "name": "stderr",
     "output_type": "stream",
     "text": [
      "D:\\Python\\lib\\site-packages\\ipykernel_launcher.py:5: SettingWithCopyWarning: \n",
      "A value is trying to be set on a copy of a slice from a DataFrame\n",
      "\n",
      "See the caveats in the documentation: http://pandas.pydata.org/pandas-docs/stable/indexing.html#indexing-view-versus-copy\n",
      "  \"\"\"\n",
      "D:\\Python\\lib\\site-packages\\ipykernel_launcher.py:6: SettingWithCopyWarning: \n",
      "A value is trying to be set on a copy of a slice from a DataFrame.\n",
      "Try using .loc[row_indexer,col_indexer] = value instead\n",
      "\n",
      "See the caveats in the documentation: http://pandas.pydata.org/pandas-docs/stable/indexing.html#indexing-view-versus-copy\n",
      "  \n"
     ]
    }
   ],
   "source": [
    "unknown_df = pd.DataFrame({'unknown_word': unknowns})\n",
    "unknown_df['freq'] = unknown_df['unknown_word'].map(words_freq)\n",
    "# only focus on words with freq >= 20\n",
    "reduce_unknown_df = unknown_df[unknown_df['freq'] >= 20]\n",
    "reduce_unknown_df.sort_values(by = 'freq', ascending = False, inplace = True)\n",
    "reduce_unknown_df['corrected'] = reduce_unknown_df['unknown_word'].map(spell.correction)"
   ]
  },
  {
   "cell_type": "code",
   "execution_count": 42,
   "metadata": {
    "scrolled": true
   },
   "outputs": [
    {
     "data": {
      "text/html": [
       "<div>\n",
       "<style scoped>\n",
       "    .dataframe tbody tr th:only-of-type {\n",
       "        vertical-align: middle;\n",
       "    }\n",
       "\n",
       "    .dataframe tbody tr th {\n",
       "        vertical-align: top;\n",
       "    }\n",
       "\n",
       "    .dataframe thead th {\n",
       "        text-align: right;\n",
       "    }\n",
       "</style>\n",
       "<table border=\"1\" class=\"dataframe\">\n",
       "  <thead>\n",
       "    <tr style=\"text-align: right;\">\n",
       "      <th></th>\n",
       "      <th>unknown_word</th>\n",
       "      <th>freq</th>\n",
       "      <th>corrected</th>\n",
       "    </tr>\n",
       "  </thead>\n",
       "  <tbody>\n",
       "    <tr>\n",
       "      <th>0</th>\n",
       "      <td>brexit</td>\n",
       "      <td>1223</td>\n",
       "      <td>credit</td>\n",
       "    </tr>\n",
       "    <tr>\n",
       "      <th>1</th>\n",
       "      <td>isil</td>\n",
       "      <td>965</td>\n",
       "      <td>isis</td>\n",
       "    </tr>\n",
       "    <tr>\n",
       "      <th>2</th>\n",
       "      <td>xpost</td>\n",
       "      <td>222</td>\n",
       "      <td>post</td>\n",
       "    </tr>\n",
       "    <tr>\n",
       "      <th>3</th>\n",
       "      <td>daesh</td>\n",
       "      <td>221</td>\n",
       "      <td>dash</td>\n",
       "    </tr>\n",
       "    <tr>\n",
       "      <th>4</th>\n",
       "      <td>kobani</td>\n",
       "      <td>215</td>\n",
       "      <td>oban</td>\n",
       "    </tr>\n",
       "    <tr>\n",
       "      <th>5</th>\n",
       "      <td>ttip</td>\n",
       "      <td>201</td>\n",
       "      <td>trip</td>\n",
       "    </tr>\n",
       "    <tr>\n",
       "      <th>6</th>\n",
       "      <td>kobane</td>\n",
       "      <td>178</td>\n",
       "      <td>kane</td>\n",
       "    </tr>\n",
       "    <tr>\n",
       "      <th>7</th>\n",
       "      <td>nusra</td>\n",
       "      <td>159</td>\n",
       "      <td>nusa</td>\n",
       "    </tr>\n",
       "    <tr>\n",
       "      <th>8</th>\n",
       "      <td>selfie</td>\n",
       "      <td>140</td>\n",
       "      <td>self</td>\n",
       "    </tr>\n",
       "    <tr>\n",
       "      <th>9</th>\n",
       "      <td>pegida</td>\n",
       "      <td>126</td>\n",
       "      <td>regina</td>\n",
       "    </tr>\n",
       "    <tr>\n",
       "      <th>10</th>\n",
       "      <td>nsfw</td>\n",
       "      <td>118</td>\n",
       "      <td>nsf</td>\n",
       "    </tr>\n",
       "    <tr>\n",
       "      <th>11</th>\n",
       "      <td>chibok</td>\n",
       "      <td>99</td>\n",
       "      <td>chick</td>\n",
       "    </tr>\n",
       "    <tr>\n",
       "      <th>12</th>\n",
       "      <td>varoufakis</td>\n",
       "      <td>95</td>\n",
       "      <td>varoufakis</td>\n",
       "    </tr>\n",
       "    <tr>\n",
       "      <th>13</th>\n",
       "      <td>truthdig</td>\n",
       "      <td>74</td>\n",
       "      <td>truthdig</td>\n",
       "    </tr>\n",
       "    <tr>\n",
       "      <th>14</th>\n",
       "      <td>jpost</td>\n",
       "      <td>71</td>\n",
       "      <td>post</td>\n",
       "    </tr>\n",
       "    <tr>\n",
       "      <th>15</th>\n",
       "      <td>selfies</td>\n",
       "      <td>65</td>\n",
       "      <td>series</td>\n",
       "    </tr>\n",
       "    <tr>\n",
       "      <th>16</th>\n",
       "      <td>aiib</td>\n",
       "      <td>64</td>\n",
       "      <td>aib</td>\n",
       "    </tr>\n",
       "    <tr>\n",
       "      <th>17</th>\n",
       "      <td>presstv</td>\n",
       "      <td>61</td>\n",
       "      <td>press</td>\n",
       "    </tr>\n",
       "    <tr>\n",
       "      <th>18</th>\n",
       "      <td>mossack</td>\n",
       "      <td>60</td>\n",
       "      <td>cossack</td>\n",
       "    </tr>\n",
       "    <tr>\n",
       "      <th>19</th>\n",
       "      <td>burkini</td>\n",
       "      <td>56</td>\n",
       "      <td>burkina</td>\n",
       "    </tr>\n",
       "    <tr>\n",
       "      <th>20</th>\n",
       "      <td>redditors</td>\n",
       "      <td>51</td>\n",
       "      <td>creditors</td>\n",
       "    </tr>\n",
       "    <tr>\n",
       "      <th>21</th>\n",
       "      <td>debaltseve</td>\n",
       "      <td>50</td>\n",
       "      <td>debaltseve</td>\n",
       "    </tr>\n",
       "    <tr>\n",
       "      <th>22</th>\n",
       "      <td>slavyansk</td>\n",
       "      <td>46</td>\n",
       "      <td>slavyansk</td>\n",
       "    </tr>\n",
       "    <tr>\n",
       "      <th>23</th>\n",
       "      <td>hispanically</td>\n",
       "      <td>43</td>\n",
       "      <td>hispanically</td>\n",
       "    </tr>\n",
       "    <tr>\n",
       "      <th>24</th>\n",
       "      <td>rezaian</td>\n",
       "      <td>41</td>\n",
       "      <td>remain</td>\n",
       "    </tr>\n",
       "    <tr>\n",
       "      <th>25</th>\n",
       "      <td>emwazi</td>\n",
       "      <td>39</td>\n",
       "      <td>swazi</td>\n",
       "    </tr>\n",
       "    <tr>\n",
       "      <th>26</th>\n",
       "      <td>sewol</td>\n",
       "      <td>38</td>\n",
       "      <td>sell</td>\n",
       "    </tr>\n",
       "    <tr>\n",
       "      <th>27</th>\n",
       "      <td>sotloff</td>\n",
       "      <td>38</td>\n",
       "      <td>set-off</td>\n",
       "    </tr>\n",
       "    <tr>\n",
       "      <th>28</th>\n",
       "      <td>madaya</td>\n",
       "      <td>38</td>\n",
       "      <td>malaya</td>\n",
       "    </tr>\n",
       "    <tr>\n",
       "      <th>29</th>\n",
       "      <td>misurata</td>\n",
       "      <td>36</td>\n",
       "      <td>misrati</td>\n",
       "    </tr>\n",
       "    <tr>\n",
       "      <th>30</th>\n",
       "      <td>wukan</td>\n",
       "      <td>35</td>\n",
       "      <td>wuhan</td>\n",
       "    </tr>\n",
       "    <tr>\n",
       "      <th>31</th>\n",
       "      <td>grexit</td>\n",
       "      <td>35</td>\n",
       "      <td>great</td>\n",
       "    </tr>\n",
       "    <tr>\n",
       "      <th>36</th>\n",
       "      <td>greste</td>\n",
       "      <td>34</td>\n",
       "      <td>oreste</td>\n",
       "    </tr>\n",
       "    <tr>\n",
       "      <th>35</th>\n",
       "      <td>gox</td>\n",
       "      <td>34</td>\n",
       "      <td>got</td>\n",
       "    </tr>\n",
       "    <tr>\n",
       "      <th>34</th>\n",
       "      <td>cantlie</td>\n",
       "      <td>34</td>\n",
       "      <td>castle</td>\n",
       "    </tr>\n",
       "    <tr>\n",
       "      <th>33</th>\n",
       "      <td>davutoğlu</td>\n",
       "      <td>34</td>\n",
       "      <td>davutoğlu</td>\n",
       "    </tr>\n",
       "    <tr>\n",
       "      <th>32</th>\n",
       "      <td>worldnews</td>\n",
       "      <td>34</td>\n",
       "      <td>worldnews</td>\n",
       "    </tr>\n",
       "    <tr>\n",
       "      <th>37</th>\n",
       "      <td>reeva</td>\n",
       "      <td>33</td>\n",
       "      <td>reeve</td>\n",
       "    </tr>\n",
       "    <tr>\n",
       "      <th>38</th>\n",
       "      <td>phailin</td>\n",
       "      <td>33</td>\n",
       "      <td>pailin</td>\n",
       "    </tr>\n",
       "    <tr>\n",
       "      <th>39</th>\n",
       "      <td>slovyansk</td>\n",
       "      <td>33</td>\n",
       "      <td>slovyansk</td>\n",
       "    </tr>\n",
       "  </tbody>\n",
       "</table>\n",
       "</div>"
      ],
      "text/plain": [
       "    unknown_word  freq     corrected\n",
       "0         brexit  1223        credit\n",
       "1           isil   965          isis\n",
       "2          xpost   222          post\n",
       "3          daesh   221          dash\n",
       "4         kobani   215          oban\n",
       "5           ttip   201          trip\n",
       "6         kobane   178          kane\n",
       "7          nusra   159          nusa\n",
       "8         selfie   140          self\n",
       "9         pegida   126        regina\n",
       "10          nsfw   118           nsf\n",
       "11        chibok    99         chick\n",
       "12    varoufakis    95    varoufakis\n",
       "13      truthdig    74      truthdig\n",
       "14         jpost    71          post\n",
       "15       selfies    65        series\n",
       "16          aiib    64           aib\n",
       "17       presstv    61         press\n",
       "18       mossack    60       cossack\n",
       "19       burkini    56       burkina\n",
       "20     redditors    51     creditors\n",
       "21    debaltseve    50    debaltseve\n",
       "22     slavyansk    46     slavyansk\n",
       "23  hispanically    43  hispanically\n",
       "24       rezaian    41        remain\n",
       "25        emwazi    39         swazi\n",
       "26         sewol    38          sell\n",
       "27       sotloff    38       set-off\n",
       "28        madaya    38        malaya\n",
       "29      misurata    36       misrati\n",
       "30         wukan    35         wuhan\n",
       "31        grexit    35         great\n",
       "36        greste    34        oreste\n",
       "35           gox    34           got\n",
       "34       cantlie    34        castle\n",
       "33     davutoğlu    34     davutoğlu\n",
       "32     worldnews    34     worldnews\n",
       "37         reeva    33         reeve\n",
       "38       phailin    33        pailin\n",
       "39     slovyansk    33     slovyansk"
      ]
     },
     "execution_count": 42,
     "metadata": {},
     "output_type": "execute_result"
    }
   ],
   "source": [
    "reduce_unknown_df[:40]"
   ]
  },
  {
   "cell_type": "code",
   "execution_count": 43,
   "metadata": {},
   "outputs": [],
   "source": [
    "# the correction done by spellchecker isn't reliable at all!\n",
    "# manually done some relative correction for highest frequency words\n",
    "\n",
    "correction_dict = {'brexit': 'british', 'isil': 'islam', 'xpost': 'delivery', 'daesh': 'isis', 'kobani': 'syria',\n",
    "                   'ttip': 'investment', 'kobane': 'syria', 'nusra': 'jihadist', 'selfie': 'photograph', 'pegida': 'islam',\n",
    "                   'nsfw': 'slang', 'chibok': 'nigeria', 'varoufakis': 'parliament', 'truthdig': 'politic', 'jpost': 'jerusalem',\n",
    "                   'selfies': 'photograph', 'aiib': 'bank', 'presstv': 'islam', 'mossack': 'lawyer', 'burkini': 'swimsuit',\n",
    "                   'redditors': 'reddit', 'debaltseve': 'ukraine', 'slavyansk': 'ukraine', 'hispanically': 'mexican',\n",
    "                   'rezaian': 'journalist', 'emwazi': 'islam', 'madaya': 'syria', 'sewol': 'ferry', 'sotloff': 'journalist',\n",
    "                   'worldnews': 'news', 'misurata': 'libya', 'wukan': 'anticorruption', 'grexit': 'greek', 'greste': 'journalist',\n",
    "                   'gox': 'oxygen', 'cantlie': 'photographer', 'davutoğlu': 'politician', 'reeva': 'model', 'phailin': 'cyclone',\n",
    "                   'slovyansk': 'ukraine'\n",
    "                  }"
   ]
  },
  {
   "cell_type": "code",
   "execution_count": 44,
   "metadata": {},
   "outputs": [
    {
     "name": "stdout",
     "output_type": "stream",
     "text": [
      "correction_dict is perfect!\n"
     ]
    }
   ],
   "source": [
    "for x in correction_dict:\n",
    "    if x not in unknowns or correction_dict[x] not in embedding_dict:\n",
    "        print(x)\n",
    "else:\n",
    "    print(\"correction_dict is perfect!\")"
   ]
  },
  {
   "cell_type": "code",
   "execution_count": 45,
   "metadata": {},
   "outputs": [
    {
     "name": "stderr",
     "output_type": "stream",
     "text": [
      "100%|████████████████████████████████████████████████████████████████████████| 81403/81403 [00:00<00:00, 561846.28it/s]\n"
     ]
    }
   ],
   "source": [
    "# correct embedding_matrix according to correction_dict\n",
    "for word, i in tqdm(word_index.items()):\n",
    "    if word in correction_dict:\n",
    "        embedding_matrix[i] = embedding_dict.get(correction_dict[word])   "
   ]
  },
  {
   "cell_type": "code",
   "execution_count": 46,
   "metadata": {},
   "outputs": [
    {
     "data": {
      "text/plain": [
       "(81404, 50)"
      ]
     },
     "execution_count": 46,
     "metadata": {},
     "output_type": "execute_result"
    }
   ],
   "source": [
    "embedding_matrix.shape"
   ]
  },
  {
   "cell_type": "code",
   "execution_count": 59,
   "metadata": {},
   "outputs": [],
   "source": [
    "# save embedding matrix for furthur training use\n",
    "np.save(\"D:\\eluvio\\data_\\modified_embedding_matrix.npy\", embedding_matrix)"
   ]
  },
  {
   "cell_type": "code",
   "execution_count": 48,
   "metadata": {},
   "outputs": [],
   "source": [
    "# -----------------data processing--------------------"
   ]
  },
  {
   "cell_type": "code",
   "execution_count": 49,
   "metadata": {},
   "outputs": [],
   "source": [
    "def log_trans(up_votes):\n",
    "    return np.log(up_votes + 1)\n",
    "\n",
    "def category_map(up_votes):\n",
    "    if up_votes <= 5:\n",
    "        return 0\n",
    "    else:\n",
    "        return 1"
   ]
  },
  {
   "cell_type": "code",
   "execution_count": 50,
   "metadata": {},
   "outputs": [],
   "source": [
    "# some general constants\n",
    "n_row = 509236\n",
    "chunksize = 10000\n",
    "chunk_count = 51\n",
    "num_words = 81404\n",
    "max_len = 50"
   ]
  },
  {
   "cell_type": "code",
   "execution_count": 53,
   "metadata": {},
   "outputs": [
    {
     "data": {
      "text/plain": [
       "[384437, 41045, 215340, 86384, 180645, 31129, 323624, 177763, 5055, 355629]"
      ]
     },
     "execution_count": 53,
     "metadata": {},
     "output_type": "execute_result"
    }
   ],
   "source": [
    "# split training, validation, testing sets\n",
    "random.seed(0)\n",
    "temp_list = list(range(n_row))\n",
    "random.shuffle(temp_list)\n",
    "\n",
    "train_list, val_list, test_list = temp_list[:400000], temp_list[400000:500000], temp_list[500000:]\n",
    "\n",
    "test_list[:10]"
   ]
  },
  {
   "cell_type": "code",
   "execution_count": 54,
   "metadata": {},
   "outputs": [
    {
     "data": {
      "text/plain": [
       "True"
      ]
     },
     "execution_count": 54,
     "metadata": {},
     "output_type": "execute_result"
    }
   ],
   "source": [
    "# create drop_list to drop val_list and test_list when iterating over chunks\n",
    "temp = val_list + test_list\n",
    "temp.sort()\n",
    "drop_list = [[] for _ in range(chunk_count)]\n",
    "j = 0\n",
    "for i in range(chunk_count):\n",
    "    while j < len(temp):\n",
    "        if temp[j] < (i + 1) * chunksize:\n",
    "            drop_list[i].append(temp[j])\n",
    "            j += 1\n",
    "        else:\n",
    "            break\n",
    "# verify\n",
    "sum([len(x) for x in drop_list]) == len(val_list) + len(test_list)"
   ]
  },
  {
   "cell_type": "code",
   "execution_count": 55,
   "metadata": {},
   "outputs": [
    {
     "name": "stderr",
     "output_type": "stream",
     "text": [
      "51it [06:37,  7.83s/it]\n"
     ]
    }
   ],
   "source": [
    "# get authors' ave_logvotes, pub_count for training set\n",
    "chunks = pd.read_csv(r'D:\\eluvio\\Eluvio_DS_Challenge.csv', iterator = True, chunksize = chunksize)\n",
    "curr_chunk = 0\n",
    "author_pub_count, author_logvotes_count, author_category_count = defaultdict(int), defaultdict(int), defaultdict(int)\n",
    "for chunk in tqdm(chunks):\n",
    "    df = pd.DataFrame(chunk)\n",
    "    df.drop(drop_list[curr_chunk], inplace = True)\n",
    "    for author, curr_df in df.groupby('author', sort = False):\n",
    "        author_pub_count[author] += curr_df.shape[0]\n",
    "        author_logvotes_count[author] += curr_df['up_votes'].map(log_trans).sum()\n",
    "        author_category_count[author] += curr_df['up_votes'].map(category_map).sum()\n",
    "    curr_chunk += 1"
   ]
  },
  {
   "cell_type": "code",
   "execution_count": 60,
   "metadata": {},
   "outputs": [],
   "source": [
    "df1 = pd.DataFrame({'author': list(author_pub_count.keys()), 'pub_count': list(author_pub_count.values())})\n",
    "df2 = pd.DataFrame({'author': list(author_logvotes_count.keys()), 'logvotes_count': list(author_logvotes_count.values())})\n",
    "df3 = pd.DataFrame({'author': list(author_category_count.keys()), 'category_count': list(author_category_count.values())})\n",
    "author_df = df1.merge(df2.merge(df3, on = 'author'), on = 'author')\n",
    "author_df['author_ave_logvotes'] = author_df['logvotes_count'] / author_df['pub_count']\n",
    "author_df['author_ave_category'] = author_df['category_count'] / author_df['pub_count']\n",
    "author_df['author_norm_ave_logvotes'] = author_df['author_ave_logvotes'] / author_df['author_ave_logvotes'].max()\n",
    "author_df['author_norm_pub_count'] = np.minimum((author_df['pub_count'] - 1) / (author_df['pub_count'].mean() - 1) / 2, 1)"
   ]
  },
  {
   "cell_type": "code",
   "execution_count": 61,
   "metadata": {},
   "outputs": [
    {
     "data": {
      "text/html": [
       "<div>\n",
       "<style scoped>\n",
       "    .dataframe tbody tr th:only-of-type {\n",
       "        vertical-align: middle;\n",
       "    }\n",
       "\n",
       "    .dataframe tbody tr th {\n",
       "        vertical-align: top;\n",
       "    }\n",
       "\n",
       "    .dataframe thead th {\n",
       "        text-align: right;\n",
       "    }\n",
       "</style>\n",
       "<table border=\"1\" class=\"dataframe\">\n",
       "  <thead>\n",
       "    <tr style=\"text-align: right;\">\n",
       "      <th></th>\n",
       "      <th>author</th>\n",
       "      <th>pub_count</th>\n",
       "      <th>logvotes_count</th>\n",
       "      <th>category_count</th>\n",
       "      <th>author_ave_logvotes</th>\n",
       "      <th>author_ave_category</th>\n",
       "      <th>author_norm_ave_logvotes</th>\n",
       "      <th>author_norm_pub_count</th>\n",
       "    </tr>\n",
       "  </thead>\n",
       "  <tbody>\n",
       "    <tr>\n",
       "      <th>0</th>\n",
       "      <td>polar</td>\n",
       "      <td>38</td>\n",
       "      <td>62.149606</td>\n",
       "      <td>10</td>\n",
       "      <td>1.635516</td>\n",
       "      <td>0.263158</td>\n",
       "      <td>0.175267</td>\n",
       "      <td>1.000000</td>\n",
       "    </tr>\n",
       "    <tr>\n",
       "      <th>1</th>\n",
       "      <td>fadi420</td>\n",
       "      <td>2</td>\n",
       "      <td>0.693147</td>\n",
       "      <td>0</td>\n",
       "      <td>0.346574</td>\n",
       "      <td>0.000000</td>\n",
       "      <td>0.037140</td>\n",
       "      <td>0.112527</td>\n",
       "    </tr>\n",
       "    <tr>\n",
       "      <th>2</th>\n",
       "      <td>mhermans</td>\n",
       "      <td>1</td>\n",
       "      <td>1.609438</td>\n",
       "      <td>0</td>\n",
       "      <td>1.609438</td>\n",
       "      <td>0.000000</td>\n",
       "      <td>0.172472</td>\n",
       "      <td>0.000000</td>\n",
       "    </tr>\n",
       "    <tr>\n",
       "      <th>3</th>\n",
       "      <td>Armagedonovich</td>\n",
       "      <td>2</td>\n",
       "      <td>4.158883</td>\n",
       "      <td>1</td>\n",
       "      <td>2.079442</td>\n",
       "      <td>0.500000</td>\n",
       "      <td>0.222839</td>\n",
       "      <td>0.112527</td>\n",
       "    </tr>\n",
       "    <tr>\n",
       "      <th>4</th>\n",
       "      <td>Moldavite</td>\n",
       "      <td>294</td>\n",
       "      <td>348.186483</td>\n",
       "      <td>60</td>\n",
       "      <td>1.184308</td>\n",
       "      <td>0.204082</td>\n",
       "      <td>0.126914</td>\n",
       "      <td>1.000000</td>\n",
       "    </tr>\n",
       "  </tbody>\n",
       "</table>\n",
       "</div>"
      ],
      "text/plain": [
       "           author  pub_count  logvotes_count  category_count  \\\n",
       "0           polar         38       62.149606              10   \n",
       "1         fadi420          2        0.693147               0   \n",
       "2        mhermans          1        1.609438               0   \n",
       "3  Armagedonovich          2        4.158883               1   \n",
       "4       Moldavite        294      348.186483              60   \n",
       "\n",
       "   author_ave_logvotes  author_ave_category  author_norm_ave_logvotes  \\\n",
       "0             1.635516             0.263158                  0.175267   \n",
       "1             0.346574             0.000000                  0.037140   \n",
       "2             1.609438             0.000000                  0.172472   \n",
       "3             2.079442             0.500000                  0.222839   \n",
       "4             1.184308             0.204082                  0.126914   \n",
       "\n",
       "   author_norm_pub_count  \n",
       "0               1.000000  \n",
       "1               0.112527  \n",
       "2               0.000000  \n",
       "3               0.112527  \n",
       "4               1.000000  "
      ]
     },
     "execution_count": 61,
     "metadata": {},
     "output_type": "execute_result"
    }
   ],
   "source": [
    "author_df.head()"
   ]
  },
  {
   "cell_type": "code",
   "execution_count": 64,
   "metadata": {},
   "outputs": [],
   "source": [
    "author_norm_ave_logvotes_dict = dict(zip(author_df['author'], author_df['author_norm_ave_logvotes']))\n",
    "def author_norm_ave_logvotes_map(author):\n",
    "    if author in author_norm_ave_logvotes_dict:\n",
    "        return author_norm_ave_logvotes_dict[author]\n",
    "    else:\n",
    "        return 0\n",
    "    \n",
    "author_ave_category_dict = dict(zip(author_df['author'], author_df['author_ave_category']))\n",
    "def author_ave_category_map(author):\n",
    "    if author in author_ave_category_dict:\n",
    "        return author_ave_category_dict[author]\n",
    "    else:\n",
    "        return 0\n",
    "\n",
    "author_norm_pub_count_dict = dict(zip(author_df['author'], author_df['author_norm_pub_count']))\n",
    "def author_norm_pub_count_map(author):\n",
    "    if author in author_norm_pub_count_dict:\n",
    "        return author_norm_pub_count_dict[author]\n",
    "    else:\n",
    "        return 0\n",
    "\n",
    "def encode_date_author(df):\n",
    "    encoding_df = pd.DataFrame()\n",
    "    encoding_df['author_norm_ave_logvotes'] = df['author'].map(author_norm_ave_logvotes_map)\n",
    "    encoding_df['author_norm_pub_count'] = df['author'].map(author_norm_pub_count_map)\n",
    "    date_df = pd.to_datetime(df['date_created'])\n",
    "    encoding_df['year'] = (date_df.dt.year - 2008) / 8\n",
    "    encoding_df['month'] = date_df.dt.month\n",
    "    encoding_df['month_c'] = np.cos(np.pi * encoding_df['month'] / 6)\n",
    "    encoding_df['month_s'] = np.sin(np.pi * encoding_df['month'] / 6)\n",
    "    encoding_df['weekday'] = date_df.dt.weekday\n",
    "    encoding_df['weekday_c'] = np.cos(2 * np.pi * encoding_df['weekday'] / 7)\n",
    "    encoding_df['weekday_s'] = np.sin(2 * np.pi * encoding_df['weekday'] / 7)\n",
    "    encoding_df['author_ave_category'] = df['author'].map(author_ave_category_map)\n",
    "    encoding_df.drop(columns = ['month', 'weekday'], inplace = True)\n",
    "    return encoding_df"
   ]
  },
  {
   "cell_type": "code",
   "execution_count": 65,
   "metadata": {},
   "outputs": [
    {
     "data": {
      "text/html": [
       "<div>\n",
       "<style scoped>\n",
       "    .dataframe tbody tr th:only-of-type {\n",
       "        vertical-align: middle;\n",
       "    }\n",
       "\n",
       "    .dataframe tbody tr th {\n",
       "        vertical-align: top;\n",
       "    }\n",
       "\n",
       "    .dataframe thead th {\n",
       "        text-align: right;\n",
       "    }\n",
       "</style>\n",
       "<table border=\"1\" class=\"dataframe\">\n",
       "  <thead>\n",
       "    <tr style=\"text-align: right;\">\n",
       "      <th></th>\n",
       "      <th>author_norm_ave_logvotes</th>\n",
       "      <th>author_norm_pub_count</th>\n",
       "      <th>year</th>\n",
       "      <th>month_c</th>\n",
       "      <th>month_s</th>\n",
       "      <th>weekday_c</th>\n",
       "      <th>weekday_s</th>\n",
       "      <th>author_ave_category</th>\n",
       "    </tr>\n",
       "  </thead>\n",
       "  <tbody>\n",
       "    <tr>\n",
       "      <th>0</th>\n",
       "      <td>0.175267</td>\n",
       "      <td>1.000000</td>\n",
       "      <td>0.0</td>\n",
       "      <td>0.866025</td>\n",
       "      <td>0.5</td>\n",
       "      <td>-0.900969</td>\n",
       "      <td>-0.433884</td>\n",
       "      <td>0.263158</td>\n",
       "    </tr>\n",
       "    <tr>\n",
       "      <th>1</th>\n",
       "      <td>0.175267</td>\n",
       "      <td>1.000000</td>\n",
       "      <td>0.0</td>\n",
       "      <td>0.866025</td>\n",
       "      <td>0.5</td>\n",
       "      <td>-0.900969</td>\n",
       "      <td>-0.433884</td>\n",
       "      <td>0.263158</td>\n",
       "    </tr>\n",
       "    <tr>\n",
       "      <th>2</th>\n",
       "      <td>0.175267</td>\n",
       "      <td>1.000000</td>\n",
       "      <td>0.0</td>\n",
       "      <td>0.866025</td>\n",
       "      <td>0.5</td>\n",
       "      <td>-0.900969</td>\n",
       "      <td>-0.433884</td>\n",
       "      <td>0.263158</td>\n",
       "    </tr>\n",
       "    <tr>\n",
       "      <th>3</th>\n",
       "      <td>0.037140</td>\n",
       "      <td>0.112527</td>\n",
       "      <td>0.0</td>\n",
       "      <td>0.866025</td>\n",
       "      <td>0.5</td>\n",
       "      <td>-0.900969</td>\n",
       "      <td>-0.433884</td>\n",
       "      <td>0.000000</td>\n",
       "    </tr>\n",
       "    <tr>\n",
       "      <th>4</th>\n",
       "      <td>0.172472</td>\n",
       "      <td>0.000000</td>\n",
       "      <td>0.0</td>\n",
       "      <td>0.866025</td>\n",
       "      <td>0.5</td>\n",
       "      <td>-0.900969</td>\n",
       "      <td>-0.433884</td>\n",
       "      <td>0.000000</td>\n",
       "    </tr>\n",
       "  </tbody>\n",
       "</table>\n",
       "</div>"
      ],
      "text/plain": [
       "   author_norm_ave_logvotes  author_norm_pub_count  year   month_c  month_s  \\\n",
       "0                  0.175267               1.000000   0.0  0.866025      0.5   \n",
       "1                  0.175267               1.000000   0.0  0.866025      0.5   \n",
       "2                  0.175267               1.000000   0.0  0.866025      0.5   \n",
       "3                  0.037140               0.112527   0.0  0.866025      0.5   \n",
       "4                  0.172472               0.000000   0.0  0.866025      0.5   \n",
       "\n",
       "   weekday_c  weekday_s  author_ave_category  \n",
       "0  -0.900969  -0.433884             0.263158  \n",
       "1  -0.900969  -0.433884             0.263158  \n",
       "2  -0.900969  -0.433884             0.263158  \n",
       "3  -0.900969  -0.433884             0.000000  \n",
       "4  -0.900969  -0.433884             0.000000  "
      ]
     },
     "execution_count": 65,
     "metadata": {},
     "output_type": "execute_result"
    }
   ],
   "source": [
    "# sample encoding\n",
    "sample_df = pd.read_csv(r'D:\\eluvio\\Eluvio_DS_Challenge.csv', nrows = 5)\n",
    "encode_date_author(sample_df)"
   ]
  },
  {
   "cell_type": "code",
   "execution_count": 67,
   "metadata": {},
   "outputs": [
    {
     "name": "stderr",
     "output_type": "stream",
     "text": [
      "51it [32:20, 37.41s/it]\n"
     ]
    }
   ],
   "source": [
    "# save pad_sequence of i-th title to \"D:\\eluvio\\data_\\_pad_seq{i}.npy\"\n",
    "# save date_author feature of i-th data to \"D:\\eluvio\\data_\\_feature{i}.npy\"\n",
    "# save logvotes y_label to logvotes_labels\n",
    "# save category y_label to category_labels\n",
    "logvotes_labels = []\n",
    "category_labels = []\n",
    "chunks = pd.read_csv(r'D:\\eluvio\\Eluvio_DS_Challenge.csv', iterator = True, chunksize = chunksize)\n",
    "curr_row = 0\n",
    "for chunk in tqdm(chunks):\n",
    "    df = pd.DataFrame(chunk)\n",
    "    corpus = df['title'].map(clean_text).map(words_token)\n",
    "    logvotes = df['up_votes'].map(log_trans)\n",
    "    category = df['up_votes'].map(category_map)\n",
    "    encoding_df = encode_date_author(df)\n",
    "    sequences=tokenizer.texts_to_sequences(corpus)\n",
    "    X = pad_sequences(sequences, maxlen = max_len, truncating='post', padding='post')\n",
    "    for i in range(df.shape[0]):\n",
    "        outfile = \"D:\\eluvio\\data_\\_pad_seq\" + str(i + curr_row) + \".npy\"\n",
    "        np.save(outfile, X[i])\n",
    "        outfile = \"D:\\eluvio\\data_\\_feature\" + str(i + curr_row) + \".npy\"\n",
    "        np.save(outfile, np.array(encoding_df.iloc[i]))\n",
    "        logvotes_labels.append(logvotes.iloc[i])\n",
    "        category_labels.append(category.iloc[i])\n",
    "    curr_row += df.shape[0]"
   ]
  },
  {
   "cell_type": "code",
   "execution_count": 68,
   "metadata": {},
   "outputs": [],
   "source": [
    "# save labels to files\n",
    "outfile = \"D:\\eluvio\\data_\\logvotes_labels.npy\"\n",
    "np.save(outfile, np.array(logvotes_labels))\n",
    "outfile = \"D:\\eluvio\\data_\\category_labels.npy\"\n",
    "np.save(outfile, np.array(category_labels))"
   ]
  },
  {
   "cell_type": "code",
   "execution_count": null,
   "metadata": {},
   "outputs": [],
   "source": []
  }
 ],
 "metadata": {
  "kernelspec": {
   "display_name": "Python 3",
   "language": "python",
   "name": "python3"
  },
  "language_info": {
   "codemirror_mode": {
    "name": "ipython",
    "version": 3
   },
   "file_extension": ".py",
   "mimetype": "text/x-python",
   "name": "python",
   "nbconvert_exporter": "python",
   "pygments_lexer": "ipython3",
   "version": "3.7.3"
  }
 },
 "nbformat": 4,
 "nbformat_minor": 2
}
